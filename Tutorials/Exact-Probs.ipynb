{
 "cells": [
  {
   "cell_type": "markdown",
   "id": "146bc404",
   "metadata": {},
   "source": [
    "# Extracting Probabilities\n",
    "\n",
    "In this notebook we run repetition codes and extract the exact probabilities rather than sampling."
   ]
  },
  {
   "cell_type": "code",
   "execution_count": 1,
   "id": "9c091985",
   "metadata": {},
   "outputs": [],
   "source": [
    "from copy import deepcopy\n",
    "\n",
    "from qiskit.providers.aer import AerSimulator\n",
    "from topological_codes import RepetitionCode\n",
    "\n",
    "from qiskit import QuantumCircuit, transpile"
   ]
  },
  {
   "cell_type": "markdown",
   "id": "2e0b09d4",
   "metadata": {},
   "source": [
    "First, let's get a code circuit. This will have multiple rounds, and hence qubits with repeated measurement."
   ]
  },
  {
   "cell_type": "code",
   "execution_count": 2,
   "id": "59ad2bf3",
   "metadata": {},
   "outputs": [],
   "source": [
    "code = RepetitionCode(3,2)\n",
    "qc = code.circuit['0']"
   ]
  },
  {
   "cell_type": "markdown",
   "id": "4f4a80c3",
   "metadata": {},
   "source": [
    "To extract the exact probabilities from a simulation we need to defer all measurements to the end. For this we add auxilliary qubits corresponding to each classical bit. Instead of measurements, we use `save_probabilities_dict()`.\n",
    "\n",
    "We also need to rewrite the output bit string to reproduce the format that the result should be. The following functions do these things."
   ]
  },
  {
   "cell_type": "code",
   "execution_count": 3,
   "id": "bd736a4f",
   "metadata": {},
   "outputs": [],
   "source": [
    "from qiskit import QuantumCircuit, QuantumRegister, ClassicalRegister\n",
    "\n",
    "def move_msm(qc):\n",
    "    \n",
    "    bits = []\n",
    "    for creg in qc.cregs:\n",
    "        for bit in creg:\n",
    "            bits.append(bit)\n",
    "\n",
    "    new_qc = QuantumCircuit()\n",
    "\n",
    "    for regs in [qc.qregs, qc.cregs]:\n",
    "        for reg in regs:\n",
    "            new_qc.add_register(reg)\n",
    "\n",
    "    aux = {}\n",
    "    for reg in qc.cregs:\n",
    "        for bit in reg:\n",
    "            aux[bits.index(bit)] = QuantumRegister(1)\n",
    "            new_qc.add_register(aux[bits.index(bit)])\n",
    "\n",
    "    for gate in qc.data:\n",
    "        if gate[0].name=='measure':\n",
    "            new_qc.cx(gate[1][0], aux[bits.index(gate[2][0])])\n",
    "        else:\n",
    "            new_qc.data.append(gate)\n",
    "            \n",
    "    new_qc.save_probabilities_dict()\n",
    "        \n",
    "    return new_qc, aux\n",
    "\n",
    "def format_probs(probs, new_qc, aux):\n",
    "    \n",
    "    bits = []\n",
    "    for creg in qc.cregs:\n",
    "        for bit in creg:\n",
    "            bits.append(bit)\n",
    "    \n",
    "    index = {}\n",
    "    for reg in new_qc.cregs:\n",
    "        for bit in reg:\n",
    "            index[bit] = new_qc.qubits.index(aux[bits.index(bit)][0])\n",
    "\n",
    "    new_probs = {}\n",
    "    for string,prob in probs.items(): \n",
    "        new_string = ''\n",
    "        for reg in new_qc.cregs:\n",
    "            for bit in reg:\n",
    "                j = index[bit]\n",
    "                new_string += string[-1-j]\n",
    "            new_string += ' '\n",
    "        new_string = new_string[::-1][1::]\n",
    "        if new_string in new_probs:\n",
    "            new_probs[new_string] += prob\n",
    "        else:\n",
    "            new_probs[new_string] = prob\n",
    "            \n",
    "    return new_probs"
   ]
  },
  {
   "cell_type": "markdown",
   "id": "b96100bc",
   "metadata": {},
   "source": [
    "Let's try it out."
   ]
  },
  {
   "cell_type": "code",
   "execution_count": 4,
   "id": "46c35c78",
   "metadata": {},
   "outputs": [
    {
     "data": {
      "text/plain": [
       "{'000 00 00': 1.0}"
      ]
     },
     "execution_count": 4,
     "metadata": {},
     "output_type": "execute_result"
    }
   ],
   "source": [
    "backend = AerSimulator(zero_threshold=1e-5)\n",
    "\n",
    "# make the modified circuit\n",
    "new_qc, aux = move_msm(qc)\n",
    "\n",
    "# run it\n",
    "job = backend.run(new_qc)\n",
    "\n",
    "# get the probabilities\n",
    "probs = job.result().data(new_qc)['probabilities']\n",
    "\n",
    "# since they use hex instead of output strings, convert to output strings\n",
    "n = str(len(new_qc.qubits))\n",
    "probs = {('{0:0'+n+'b}').format(int(output,0)):shots for output,shots in probs.items()}\n",
    "\n",
    "# then use `format_probs`\n",
    "probs = format_probs(probs, new_qc, aux)\n",
    "\n",
    "# let's see what we get\n",
    "probs"
   ]
  }
 ],
 "metadata": {
  "kernelspec": {
   "display_name": "Python 3.9.6 ('Qiskit')",
   "language": "python",
   "name": "python3"
  },
  "language_info": {
   "codemirror_mode": {
    "name": "ipython",
    "version": 3
   },
   "file_extension": ".py",
   "mimetype": "text/x-python",
   "name": "python",
   "nbconvert_exporter": "python",
   "pygments_lexer": "ipython3",
   "version": "3.9.6"
  },
  "vscode": {
   "interpreter": {
    "hash": "9047ca2da3fcc12bec00934b59ff9d3b8cc3963cc29e4525af84d4ac03262e1f"
   }
  }
 },
 "nbformat": 4,
 "nbformat_minor": 5
}
