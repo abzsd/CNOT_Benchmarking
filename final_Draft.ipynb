{
 "cells": [
  {
   "cell_type": "code",
   "execution_count": 200,
   "metadata": {},
   "outputs": [],
   "source": [
    "from topological_codes import RepetitionCode\n",
    "from qiskit import Aer, assemble, transpile\n",
    "import qiskit\n",
    "\n",
    "import numpy as np\n",
    "\n",
    "import qiskit.ignis.verification.randomized_benchmarking as rb\n",
    "from qiskit.providers.aer.noise import NoiseModel\n",
    "from qiskit.providers.aer.noise.errors.standard_errors import depolarizing_error, thermal_relaxation_error"
   ]
  },
  {
   "cell_type": "code",
   "execution_count": 201,
   "metadata": {},
   "outputs": [
    {
     "data": {
      "text/plain": [
       "qiskit.circuit.quantumcircuit.QuantumCircuit"
      ]
     },
     "execution_count": 201,
     "metadata": {},
     "output_type": "execute_result"
    }
   ],
   "source": [
    "d= 3\n",
    "xbasis = False\n",
    "\n",
    "code = RepetitionCode(d,0,xbasis=xbasis)\n",
    "type(code)\n",
    "type(code.circuit['0'])"
   ]
  },
  {
   "cell_type": "code",
   "execution_count": 202,
   "metadata": {},
   "outputs": [],
   "source": [
    "code.syndrome_measurement()"
   ]
  },
  {
   "cell_type": "code",
   "execution_count": 203,
   "metadata": {},
   "outputs": [
    {
     "name": "stdout",
     "output_type": "stream",
     "text": [
      "Qubit(QuantumRegister(3, 'code_qubit'), 1)\n"
     ]
    }
   ],
   "source": [
    "q = code.circuit['0'].qregs[1][int(d/2)]\n",
    "print(q)"
   ]
  },
  {
   "cell_type": "code",
   "execution_count": 93,
   "metadata": {},
   "outputs": [
    {
     "data": {
      "image/png": "[encoded data removed]",
      "text/plain": [
       "<Figure size 590.875x385.28 with 1 Axes>"
      ]
     },
     "execution_count": 93,
     "metadata": {},
     "output_type": "execute_result"
    }
   ],
   "source": [
    "code.circuit['0'].draw('mpl')"
   ]
  },
  {
   "cell_type": "code",
   "execution_count": 94,
   "metadata": {},
   "outputs": [],
   "source": [
    "rb_opts = {}\n",
    "rb_opts['length_vector'] = [1,10,20,50,75,100,125,150,175,200]\n",
    "# num of seeds(random sequences)\n",
    "rb_opts['nseeds'] = 5\n",
    "#default pattern\n",
    "rb_opts['rb_pattern'] = [[0]]\n",
    "\n",
    "rb_circs, xdata = rb.randomized_benchmarking_seq(**rb_opts)"
   ]
  },
  {
   "cell_type": "code",
   "execution_count": 109,
   "metadata": {},
   "outputs": [],
   "source": [
    "for i in range(len(rb_circs)):\n",
    "    for j in range(len(rb_circs[0])):\n",
    "        rb_circs[i][j].data\n",
    "        rb_circs[i][j].data.pop(-1)"
   ]
  },
  {
   "cell_type": "code",
   "execution_count": 111,
   "metadata": {},
   "outputs": [
    {
     "data": {
      "image/png": "[encoded data removed]",
      "text/plain": [
       "<Figure size 382.98x144.48 with 1 Axes>"
      ]
     },
     "execution_count": 111,
     "metadata": {},
     "output_type": "execute_result"
    }
   ],
   "source": [
    "# Randomized benchmarking Gates implementation\n",
    "rb_circs[1][0].draw('mpl')\n",
    "# # type(rb_circs[0][0])\n",
    "# rb_circs[0][0].data #prints the tuple of all the gates applied in the circuit\n",
    "# rb_circs[0][0].data.pop(-1) #pop the last gate applied i.e. the measurement gate"
   ]
  },
  {
   "cell_type": "code",
   "execution_count": 64,
   "metadata": {},
   "outputs": [
    {
     "data": {
      "image/png": "[encoded data removed]",
      "text/plain": [
       "<Figure size 503.38x144.48 with 1 Axes>"
      ]
     },
     "execution_count": 64,
     "metadata": {},
     "output_type": "execute_result"
    }
   ],
   "source": [
    "rb_circs[0][0].draw('mpl')"
   ]
  },
  {
   "cell_type": "code",
   "execution_count": 127,
   "metadata": {},
   "outputs": [],
   "source": [
    "from qiskit import QuantumCircuit,QuantumRegister,ClassicalRegister\n",
    "rows, cols = (len(rb_circs), len(rb_circs[0]))\n",
    "rb_circs_dlist = [[0]*cols]*rows"
   ]
  },
  {
   "cell_type": "code",
   "execution_count": 128,
   "metadata": {},
   "outputs": [],
   "source": [
    "for i in range(len(rb_circs)):\n",
    "    for j in range(len(rb_circs[0])):\n",
    "        Q= QuantumRegister(5)\n",
    "        C= ClassicalRegister(1)\n",
    "        qc = QuantumCircuit(Q,C)\n",
    "        qq = qc.compose(rb_circs[i][j],[3])\n",
    "        rb_circs_dlist[i][j] = qq\n",
    "# All the rb circuits without the measurement part"
   ]
  },
  {
   "cell_type": "code",
   "execution_count": 136,
   "metadata": {},
   "outputs": [
    {
     "data": {
      "text/plain": [
       "<qiskit.circuit.quantumcircuit.QuantumCircuit at 0x231b9ac22e0>"
      ]
     },
     "execution_count": 136,
     "metadata": {},
     "output_type": "execute_result"
    }
   ],
   "source": [
    "rb_circs_dlist[0][1]"
   ]
  },
  {
   "cell_type": "code",
   "execution_count": 133,
   "metadata": {},
   "outputs": [],
   "source": [
    "# Q = QuantumRegister(5)\n",
    "# C = ClassicalRegister(1)\n",
    "# qc = QuantumCircuit(Q,C)\n",
    "# qq = qc.compose(rb_circs[0][0],[3])\n",
    "# qc.draw('mpl')"
   ]
  },
  {
   "cell_type": "code",
   "execution_count": 139,
   "metadata": {},
   "outputs": [],
   "source": [
    "code_list = [[0]*cols]*rows\n",
    "for i in range(len(rb_circs)):\n",
    "    for j in range(len(rb_circs[0])):\n",
    "        d= 3\n",
    "        xbasis = False\n",
    "        code = RepetitionCode(d,0,xbasis=xbasis)\n",
    "        # type(code)\n",
    "        # type(code.circuit['0'])\n",
    "        code.syndrome_measurement()\n",
    "        for logical in ['0','1']:\n",
    "            code.circuit[logical] = code.circuit[logical].compose(rb_circs_dlist[i][j])\n",
    "        code.syndrome_measurement()\n",
    "        code_list[i][j] = code"
   ]
  },
  {
   "cell_type": "code",
   "execution_count": null,
   "metadata": {},
   "outputs": [],
   "source": [
    "qq.draw('mpl')"
   ]
  },
  {
   "cell_type": "code",
   "execution_count": 145,
   "metadata": {},
   "outputs": [
    {
     "data": {
      "image/png": "[encoded data removed]",
      "text/plain": [
       "<Figure size 1313.42x505.68 with 1 Axes>"
      ]
     },
     "execution_count": 145,
     "metadata": {},
     "output_type": "execute_result"
    }
   ],
   "source": [
    "code_list[0][0].circuit['1'].draw('mpl')"
   ]
  },
  {
   "cell_type": "code",
   "execution_count": 146,
   "metadata": {},
   "outputs": [],
   "source": [
    "# from qiskit import ClassicalRegister, QuantumRegister\n",
    "# # for logical in ['0','1']:\n",
    "#     # code.circuit[logical].rx(0.9*np.pi,3)\n",
    "#     # code.circuit[logical].add_register(ClassicalRegister(3))\n",
    "\n",
    "# code.circuit['1'].draw('mpl')"
   ]
  },
  {
   "cell_type": "code",
   "execution_count": 70,
   "metadata": {},
   "outputs": [],
   "source": [
    "# code.syndrome_measurement()"
   ]
  },
  {
   "cell_type": "code",
   "execution_count": 147,
   "metadata": {},
   "outputs": [],
   "source": [
    "# code.readout()"
   ]
  },
  {
   "cell_type": "code",
   "execution_count": 148,
   "metadata": {},
   "outputs": [],
   "source": [
    "# code.circuit['0'].draw('mpl')"
   ]
  },
  {
   "cell_type": "code",
   "execution_count": 149,
   "metadata": {},
   "outputs": [],
   "source": [
    "# code.circuit['0'].draw('mpl')"
   ]
  },
  {
   "cell_type": "code",
   "execution_count": 150,
   "metadata": {},
   "outputs": [],
   "source": [
    "# code.circuit['1'].draw('mpl')"
   ]
  },
  {
   "cell_type": "code",
   "execution_count": 155,
   "metadata": {},
   "outputs": [
    {
     "data": {
      "text/plain": [
       "[<topological_codes.circuits.RepetitionCode at 0x231c1281730>,\n",
       " <topological_codes.circuits.RepetitionCode at 0x231c12acdc0>,\n",
       " <topological_codes.circuits.RepetitionCode at 0x231ab419310>,\n",
       " <topological_codes.circuits.RepetitionCode at 0x231c15281f0>,\n",
       " <topological_codes.circuits.RepetitionCode at 0x231c1144460>,\n",
       " <topological_codes.circuits.RepetitionCode at 0x231baaa1a00>,\n",
       " <topological_codes.circuits.RepetitionCode at 0x231baacb640>,\n",
       " <topological_codes.circuits.RepetitionCode at 0x231ba9c3df0>,\n",
       " <topological_codes.circuits.RepetitionCode at 0x231ba97ff10>,\n",
       " <topological_codes.circuits.RepetitionCode at 0x231c131e910>]"
      ]
     },
     "execution_count": 155,
     "metadata": {},
     "output_type": "execute_result"
    }
   ],
   "source": [
    "code_list[0]"
   ]
  },
  {
   "cell_type": "code",
   "execution_count": 160,
   "metadata": {},
   "outputs": [],
   "source": [
    "backend = Aer.get_backend('aer_simulator')\n",
    "p_zero = []\n",
    "p_one = []\n",
    "for i in range(len(code_list)):\n",
    "    for j in range(len(code_list[0])):\n",
    "        circuit = code_list[i][j].get_circuit_list()\n",
    "        job = backend.run(circuit)\n",
    "        p = {}\n",
    "\n",
    "        # logical 0\n",
    "        counts = job.result().get_counts(0)\n",
    "        if '010 11 00' in counts:\n",
    "            r = counts['010 11 00']/counts['000 00 00']\n",
    "            p['0'] = r/(1+r)\n",
    "        else:\n",
    "            p['0'] = 0\n",
    "            \n",
    "        # logical 1\n",
    "        counts = job.result().get_counts(1)\n",
    "        if '101 11 00' in counts:\n",
    "            r = counts['101 11 00']/counts['111 00 00']\n",
    "            p['1'] = r/(1+r)\n",
    "        else:\n",
    "            p['1'] = 0\n",
    "            \n",
    "        # print(p)\n",
    "        p_zero.append(p['0'])\n",
    "        p_one.append(p['1'])\n",
    "        "
   ]
  },
  {
   "cell_type": "code",
   "execution_count": 164,
   "metadata": {},
   "outputs": [],
   "source": [
    "#Run on noisy simulator\n",
    "\n",
    "noise_model = NoiseModel()\n",
    "\n",
    "# Depolarizing error on the gates u2, u3 and cx (assuming the u1 is virtual-Z gate and no error)\n",
    "p1Q = 0.02\n",
    "p2Q = 0.01\n",
    "\n",
    "noise_model.add_all_qubit_quantum_error(depolarizing_error(p1Q, 1), 'u2')\n",
    "noise_model.add_all_qubit_quantum_error(depolarizing_error(2 * p1Q, 1), 'u3')\n",
    "noise_model.add_all_qubit_quantum_error(depolarizing_error(p2Q, 2), 'cx')"
   ]
  },
  {
   "cell_type": "code",
   "execution_count": 167,
   "metadata": {},
   "outputs": [],
   "source": [
    "backend = Aer.get_backend('aer_simulator')\n",
    "np_zero = []\n",
    "np_one = []\n",
    "for i in range(len(code_list)):\n",
    "    for j in range(len(code_list[0])):\n",
    "        ncircuit = code_list[i][j].get_circuit_list()\n",
    "        noisy_job = backend.run(ncircuit,noise_model=noise_model,max_parallel_experiments=0)\n",
    "        noisy_p = {}\n",
    "        # logical 0\n",
    "        noisy_counts = noisy_job.result().get_counts(0)\n",
    "        if '010 11 00' in noisy_counts:\n",
    "            noisy_r = noisy_counts['010 11 00']/noisy_counts['000 00 00']\n",
    "            noisy_p['0'] = noisy_r/(1+noisy_r)\n",
    "        else:\n",
    "            noisy_p['0'] = 0\n",
    "            \n",
    "        # logical 1\n",
    "        noisy_counts = noisy_job.result().get_counts(1)\n",
    "        if '101 11 00' in noisy_counts:\n",
    "            noisy_r = noisy_counts['101 11 00']/noisy_counts['111 00 00']\n",
    "            noisy_p['1'] = noisy_r/(1+noisy_r)\n",
    "        else:\n",
    "            noisy_p['1'] = 0\n",
    "            \n",
    "        # print(noisy_p)\n",
    "        np_zero.append(noisy_p['0'])\n",
    "        np_one.append(noisy_p['1'])"
   ]
  },
  {
   "cell_type": "code",
   "execution_count": 168,
   "metadata": {},
   "outputs": [
    {
     "data": {
      "text/plain": [
       "50"
      ]
     },
     "execution_count": 168,
     "metadata": {},
     "output_type": "execute_result"
    }
   ],
   "source": [
    "len(np_zero)"
   ]
  },
  {
   "cell_type": "code",
   "execution_count": 204,
   "metadata": {},
   "outputs": [
    {
     "data": {
      "text/plain": [
       "[0.0051334702258726906,\n",
       " 0.0020898641588296763,\n",
       " 0.00508646998982706,\n",
       " 0.003095975232198142,\n",
       " 0.005122950819672132,\n",
       " 0.00511770726714432,\n",
       " 0.009268795056642637,\n",
       " 0.0031088082901554407,\n",
       " 0.0071501532175689475,\n",
       " 0,\n",
       " 0.004073319755600815,\n",
       " 0.007209062821833162,\n",
       " 0.0030643513789581204,\n",
       " 0.009249743062692703,\n",
       " 0.006153846153846154,\n",
       " 0.0072016460905349805,\n",
       " 0.0051813471502590676,\n",
       " 0.0020533880903490765,\n",
       " 0.0030674846625766876,\n",
       " 0.009193054136874362,\n",
       " 0.004136504653567735,\n",
       " 0.005165289256198347,\n",
       " 0.007246376811594202,\n",
       " 0.004115226337448559,\n",
       " 0.0030895983522142125,\n",
       " 0.009278350515463916,\n",
       " 0.005107252298263534,\n",
       " 0.0071574642126789375,\n",
       " 0.0031185031185031182,\n",
       " 0.004123711340206186,\n",
       " 0.004106776180698152,\n",
       " 0.005102040816326531,\n",
       " 0.0030612244897959186,\n",
       " 0.005202913631633715,\n",
       " 0.006185567010309278,\n",
       " 0.005091649694501019,\n",
       " 0.006243496357960458,\n",
       " 0.010214504596527068,\n",
       " 0.0040858018386108275,\n",
       " 0.0031185031185031182,\n",
       " 0.0031023784901758012,\n",
       " 0.005170630816959669,\n",
       " 0.010309278350515462,\n",
       " 0.0031217481789802292,\n",
       " 0.006166495375128468,\n",
       " 0.00814663951120163,\n",
       " 0.004140786749482402,\n",
       " 0.0070921985815602835,\n",
       " 0.00511770726714432,\n",
       " 0.006141248720573183]"
      ]
     },
     "execution_count": 204,
     "metadata": {},
     "output_type": "execute_result"
    }
   ],
   "source": [
    "np_zero"
   ]
  },
  {
   "cell_type": "code",
   "execution_count": 213,
   "metadata": {},
   "outputs": [
    {
     "name": "stderr",
     "output_type": "stream",
     "text": [
      "No handles with labels found to put in legend.\n"
     ]
    },
    {
     "data": {
      "image/png": "[encoded data removed]",
      "text/plain": [
       "<Figure size 432x288 with 1 Axes>"
      ]
     },
     "metadata": {
      "needs_background": "light"
     },
     "output_type": "display_data"
    }
   ],
   "source": [
    "# varying zero and one due to p1q error\n",
    "fig2 = plt.figure()\n",
    "plt.plot(rb_opts['length_vector'],np_zero[0:10])\n",
    "plt.plot(rb_opts['length_vector'],np_zero[10:20])\n",
    "plt.plot(rb_opts['length_vector'],np_zero[20:30])\n",
    "plt.plot(rb_opts['length_vector'],np_zero[30:40])\n",
    "plt.plot(rb_opts['length_vector'],np_zero[40:50])\n",
    "plt.xlabel('length_vector')\n",
    "plt.legend()\n",
    "plt.show()\n",
    "\n",
    "############ TO BE CHECKED ONCE MORE ##################"
   ]
  },
  {
   "cell_type": "code",
   "execution_count": 174,
   "metadata": {},
   "outputs": [
    {
     "data": {
      "text/plain": [
       "<qiskit.circuit.quantumcircuit.QuantumCircuit at 0x231c15a5880>"
      ]
     },
     "execution_count": 174,
     "metadata": {},
     "output_type": "execute_result"
    }
   ],
   "source": [
    "code_list[0][0].circuit['0']"
   ]
  },
  {
   "cell_type": "code",
   "execution_count": 181,
   "metadata": {},
   "outputs": [
    {
     "name": "stdout",
     "output_type": "stream",
     "text": [
      "5\n"
     ]
    }
   ],
   "source": [
    "rb_circs_zero = [[0]*cols]*rows\n",
    "#print(len(rb_circs_zero))\n",
    "for i in range(len(code_list)):\n",
    "    for j in range(len(code_list[0])):\n",
    "        rb_circs_zero[i][j] = code_list[i][j].circuit['0']"
   ]
  },
  {
   "cell_type": "code",
   "execution_count": 199,
   "metadata": {},
   "outputs": [
    {
     "data": {
      "image/png": "[encoded data removed]",
      "text/plain": [
       "<Figure size 1253.22x505.68 with 1 Axes>"
      ]
     },
     "execution_count": 199,
     "metadata": {},
     "output_type": "execute_result"
    }
   ],
   "source": [
    "(rb_circs_zero[0][0].draw('mpl'))"
   ]
  },
  {
   "cell_type": "code",
   "execution_count": 214,
   "metadata": {},
   "outputs": [
    {
     "data": {
      "text/plain": [
       "[[<qiskit.circuit.quantumcircuit.QuantumCircuit at 0x231c15a5880>,\n",
       "  <qiskit.circuit.quantumcircuit.QuantumCircuit at 0x231c143b700>,\n",
       "  <qiskit.circuit.quantumcircuit.QuantumCircuit at 0x231c14cf520>,\n",
       "  <qiskit.circuit.quantumcircuit.QuantumCircuit at 0x231c1481ca0>,\n",
       "  <qiskit.circuit.quantumcircuit.QuantumCircuit at 0x231c148d070>,\n",
       "  <qiskit.circuit.quantumcircuit.QuantumCircuit at 0x231c148d490>,\n",
       "  <qiskit.circuit.quantumcircuit.QuantumCircuit at 0x231c153d190>,\n",
       "  <qiskit.circuit.quantumcircuit.QuantumCircuit at 0x231c11bbf10>,\n",
       "  <qiskit.circuit.quantumcircuit.QuantumCircuit at 0x231c13ec910>,\n",
       "  <qiskit.circuit.quantumcircuit.QuantumCircuit at 0x231c135ff40>],\n",
       " [<qiskit.circuit.quantumcircuit.QuantumCircuit at 0x231c15a5880>,\n",
       "  <qiskit.circuit.quantumcircuit.QuantumCircuit at 0x231c143b700>,\n",
       "  <qiskit.circuit.quantumcircuit.QuantumCircuit at 0x231c14cf520>,\n",
       "  <qiskit.circuit.quantumcircuit.QuantumCircuit at 0x231c1481ca0>,\n",
       "  <qiskit.circuit.quantumcircuit.QuantumCircuit at 0x231c148d070>,\n",
       "  <qiskit.circuit.quantumcircuit.QuantumCircuit at 0x231c148d490>,\n",
       "  <qiskit.circuit.quantumcircuit.QuantumCircuit at 0x231c153d190>,\n",
       "  <qiskit.circuit.quantumcircuit.QuantumCircuit at 0x231c11bbf10>,\n",
       "  <qiskit.circuit.quantumcircuit.QuantumCircuit at 0x231c13ec910>,\n",
       "  <qiskit.circuit.quantumcircuit.QuantumCircuit at 0x231c135ff40>],\n",
       " [<qiskit.circuit.quantumcircuit.QuantumCircuit at 0x231c15a5880>,\n",
       "  <qiskit.circuit.quantumcircuit.QuantumCircuit at 0x231c143b700>,\n",
       "  <qiskit.circuit.quantumcircuit.QuantumCircuit at 0x231c14cf520>,\n",
       "  <qiskit.circuit.quantumcircuit.QuantumCircuit at 0x231c1481ca0>,\n",
       "  <qiskit.circuit.quantumcircuit.QuantumCircuit at 0x231c148d070>,\n",
       "  <qiskit.circuit.quantumcircuit.QuantumCircuit at 0x231c148d490>,\n",
       "  <qiskit.circuit.quantumcircuit.QuantumCircuit at 0x231c153d190>,\n",
       "  <qiskit.circuit.quantumcircuit.QuantumCircuit at 0x231c11bbf10>,\n",
       "  <qiskit.circuit.quantumcircuit.QuantumCircuit at 0x231c13ec910>,\n",
       "  <qiskit.circuit.quantumcircuit.QuantumCircuit at 0x231c135ff40>],\n",
       " [<qiskit.circuit.quantumcircuit.QuantumCircuit at 0x231c15a5880>,\n",
       "  <qiskit.circuit.quantumcircuit.QuantumCircuit at 0x231c143b700>,\n",
       "  <qiskit.circuit.quantumcircuit.QuantumCircuit at 0x231c14cf520>,\n",
       "  <qiskit.circuit.quantumcircuit.QuantumCircuit at 0x231c1481ca0>,\n",
       "  <qiskit.circuit.quantumcircuit.QuantumCircuit at 0x231c148d070>,\n",
       "  <qiskit.circuit.quantumcircuit.QuantumCircuit at 0x231c148d490>,\n",
       "  <qiskit.circuit.quantumcircuit.QuantumCircuit at 0x231c153d190>,\n",
       "  <qiskit.circuit.quantumcircuit.QuantumCircuit at 0x231c11bbf10>,\n",
       "  <qiskit.circuit.quantumcircuit.QuantumCircuit at 0x231c13ec910>,\n",
       "  <qiskit.circuit.quantumcircuit.QuantumCircuit at 0x231c135ff40>],\n",
       " [<qiskit.circuit.quantumcircuit.QuantumCircuit at 0x231c15a5880>,\n",
       "  <qiskit.circuit.quantumcircuit.QuantumCircuit at 0x231c143b700>,\n",
       "  <qiskit.circuit.quantumcircuit.QuantumCircuit at 0x231c14cf520>,\n",
       "  <qiskit.circuit.quantumcircuit.QuantumCircuit at 0x231c1481ca0>,\n",
       "  <qiskit.circuit.quantumcircuit.QuantumCircuit at 0x231c148d070>,\n",
       "  <qiskit.circuit.quantumcircuit.QuantumCircuit at 0x231c148d490>,\n",
       "  <qiskit.circuit.quantumcircuit.QuantumCircuit at 0x231c153d190>,\n",
       "  <qiskit.circuit.quantumcircuit.QuantumCircuit at 0x231c11bbf10>,\n",
       "  <qiskit.circuit.quantumcircuit.QuantumCircuit at 0x231c13ec910>,\n",
       "  <qiskit.circuit.quantumcircuit.QuantumCircuit at 0x231c135ff40>]]"
      ]
     },
     "execution_count": 214,
     "metadata": {},
     "output_type": "execute_result"
    }
   ],
   "source": [
    "rb_circs_zero"
   ]
  },
  {
   "cell_type": "code",
   "execution_count": 196,
   "metadata": {},
   "outputs": [
    {
     "name": "stderr",
     "output_type": "stream",
     "text": [
      "Simulation failed and returned the following error message:\n",
      "ERROR:  [Experiment 0] AerSimulator: circuit with instructions {\"instructions\": {gate, measure, barrier, save_unitary}, \"gates\": {cx, s, z, sdg, h, x, y}} is not compatible with any of the automatic simulation methods\n"
     ]
    },
    {
     "ename": "QiskitError",
     "evalue": "'ERROR:  [Experiment 0] AerSimulator: circuit with instructions {\"instructions\": {gate, measure, barrier, save_unitary}, \"gates\": {cx, s, z, sdg, h, x, y}} is not compatible with any of the automatic simulation methods ,  ERROR: AerSimulator: circuit with instructions {\"instructions\": {gate, measure, barrier, save_unitary}, \"gates\": {cx, s, z, sdg, h, x, y}} is not compatible with any of the automatic simulation methods'",
     "output_type": "error",
     "traceback": [
      "\u001b[1;31m---------------------------------------------------------------------------\u001b[0m",
      "\u001b[1;31mQiskitError\u001b[0m                               Traceback (most recent call last)",
      "\u001b[1;32m~\\AppData\\Local\\Temp/ipykernel_6864/1241338165.py\u001b[0m in \u001b[0;36m<module>\u001b[1;34m\u001b[0m\n\u001b[0;32m     13\u001b[0m \u001b[0mbasis_gates\u001b[0m \u001b[1;33m=\u001b[0m \u001b[1;33m[\u001b[0m\u001b[1;34m'u1'\u001b[0m\u001b[1;33m,\u001b[0m\u001b[1;34m'u2'\u001b[0m\u001b[1;33m,\u001b[0m\u001b[1;34m'u3'\u001b[0m\u001b[1;33m,\u001b[0m\u001b[1;34m'cx'\u001b[0m\u001b[1;33m]\u001b[0m \u001b[1;31m# use U,CX for now\u001b[0m\u001b[1;33m\u001b[0m\u001b[1;33m\u001b[0m\u001b[0m\n\u001b[0;32m     14\u001b[0m \u001b[0mqc\u001b[0m\u001b[1;33m.\u001b[0m\u001b[0msave_unitary\u001b[0m\u001b[1;33m(\u001b[0m\u001b[1;33m)\u001b[0m\u001b[1;33m\u001b[0m\u001b[1;33m\u001b[0m\u001b[0m\n\u001b[1;32m---> 15\u001b[1;33m \u001b[0munitary\u001b[0m \u001b[1;33m=\u001b[0m \u001b[0msim\u001b[0m\u001b[1;33m.\u001b[0m\u001b[0mrun\u001b[0m\u001b[1;33m(\u001b[0m\u001b[0mqc\u001b[0m\u001b[1;33m)\u001b[0m\u001b[1;33m.\u001b[0m\u001b[0mresult\u001b[0m\u001b[1;33m(\u001b[0m\u001b[1;33m)\u001b[0m\u001b[1;33m.\u001b[0m\u001b[0mget_unitary\u001b[0m\u001b[1;33m(\u001b[0m\u001b[1;33m)\u001b[0m\u001b[1;33m\u001b[0m\u001b[1;33m\u001b[0m\u001b[0m\n\u001b[0m\u001b[0;32m     16\u001b[0m \u001b[1;32mfrom\u001b[0m \u001b[0mqiskit\u001b[0m\u001b[1;33m.\u001b[0m\u001b[0mvisualization\u001b[0m \u001b[1;32mimport\u001b[0m \u001b[0marray_to_latex\u001b[0m\u001b[1;33m\u001b[0m\u001b[1;33m\u001b[0m\u001b[0m\n\u001b[0;32m     17\u001b[0m \u001b[0marray_to_latex\u001b[0m\u001b[1;33m(\u001b[0m\u001b[0munitary\u001b[0m\u001b[1;33m,\u001b[0m \u001b[0mprefix\u001b[0m\u001b[1;33m=\u001b[0m\u001b[1;34m\"\\\\text{Unitary} = \"\u001b[0m\u001b[1;33m)\u001b[0m\u001b[1;33m\u001b[0m\u001b[1;33m\u001b[0m\u001b[0m\n",
      "\u001b[1;32mc:\\Users\\AbhayK\\Anaconda3\\envs\\Qiskit\\lib\\site-packages\\qiskit\\result\\result.py\u001b[0m in \u001b[0;36mget_unitary\u001b[1;34m(self, experiment, decimals)\u001b[0m\n\u001b[0;32m    345\u001b[0m         \"\"\"\n\u001b[0;32m    346\u001b[0m         \u001b[1;32mtry\u001b[0m\u001b[1;33m:\u001b[0m\u001b[1;33m\u001b[0m\u001b[1;33m\u001b[0m\u001b[0m\n\u001b[1;32m--> 347\u001b[1;33m             \u001b[1;32mreturn\u001b[0m \u001b[0mpostprocess\u001b[0m\u001b[1;33m.\u001b[0m\u001b[0mformat_unitary\u001b[0m\u001b[1;33m(\u001b[0m\u001b[0mself\u001b[0m\u001b[1;33m.\u001b[0m\u001b[0mdata\u001b[0m\u001b[1;33m(\u001b[0m\u001b[0mexperiment\u001b[0m\u001b[1;33m)\u001b[0m\u001b[1;33m[\u001b[0m\u001b[1;34m\"unitary\"\u001b[0m\u001b[1;33m]\u001b[0m\u001b[1;33m,\u001b[0m \u001b[0mdecimals\u001b[0m\u001b[1;33m=\u001b[0m\u001b[0mdecimals\u001b[0m\u001b[1;33m)\u001b[0m\u001b[1;33m\u001b[0m\u001b[1;33m\u001b[0m\u001b[0m\n\u001b[0m\u001b[0;32m    348\u001b[0m         \u001b[1;32mexcept\u001b[0m \u001b[0mKeyError\u001b[0m \u001b[1;32mas\u001b[0m \u001b[0mex\u001b[0m\u001b[1;33m:\u001b[0m\u001b[1;33m\u001b[0m\u001b[1;33m\u001b[0m\u001b[0m\n\u001b[0;32m    349\u001b[0m             \u001b[1;32mraise\u001b[0m \u001b[0mQiskitError\u001b[0m\u001b[1;33m(\u001b[0m\u001b[1;34mf'No unitary for experiment \"{repr(experiment)}\"'\u001b[0m\u001b[1;33m)\u001b[0m \u001b[1;32mfrom\u001b[0m \u001b[0mex\u001b[0m\u001b[1;33m\u001b[0m\u001b[1;33m\u001b[0m\u001b[0m\n",
      "\u001b[1;32mc:\\Users\\AbhayK\\Anaconda3\\envs\\Qiskit\\lib\\site-packages\\qiskit\\result\\result.py\u001b[0m in \u001b[0;36mdata\u001b[1;34m(self, experiment)\u001b[0m\n\u001b[0;32m    196\u001b[0m         \"\"\"\n\u001b[0;32m    197\u001b[0m         \u001b[1;32mtry\u001b[0m\u001b[1;33m:\u001b[0m\u001b[1;33m\u001b[0m\u001b[1;33m\u001b[0m\u001b[0m\n\u001b[1;32m--> 198\u001b[1;33m             \u001b[1;32mreturn\u001b[0m \u001b[0mself\u001b[0m\u001b[1;33m.\u001b[0m\u001b[0m_get_experiment\u001b[0m\u001b[1;33m(\u001b[0m\u001b[0mexperiment\u001b[0m\u001b[1;33m)\u001b[0m\u001b[1;33m.\u001b[0m\u001b[0mdata\u001b[0m\u001b[1;33m.\u001b[0m\u001b[0mto_dict\u001b[0m\u001b[1;33m(\u001b[0m\u001b[1;33m)\u001b[0m\u001b[1;33m\u001b[0m\u001b[1;33m\u001b[0m\u001b[0m\n\u001b[0m\u001b[0;32m    199\u001b[0m         \u001b[1;32mexcept\u001b[0m \u001b[1;33m(\u001b[0m\u001b[0mKeyError\u001b[0m\u001b[1;33m,\u001b[0m \u001b[0mTypeError\u001b[0m\u001b[1;33m)\u001b[0m \u001b[1;32mas\u001b[0m \u001b[0mex\u001b[0m\u001b[1;33m:\u001b[0m\u001b[1;33m\u001b[0m\u001b[1;33m\u001b[0m\u001b[0m\n\u001b[0;32m    200\u001b[0m             \u001b[1;32mraise\u001b[0m \u001b[0mQiskitError\u001b[0m\u001b[1;33m(\u001b[0m\u001b[1;34mf'No data for experiment \"{repr(experiment)}\"'\u001b[0m\u001b[1;33m)\u001b[0m \u001b[1;32mfrom\u001b[0m \u001b[0mex\u001b[0m\u001b[1;33m\u001b[0m\u001b[1;33m\u001b[0m\u001b[0m\n",
      "\u001b[1;32mc:\\Users\\AbhayK\\Anaconda3\\envs\\Qiskit\\lib\\site-packages\\qiskit\\result\\result.py\u001b[0m in \u001b[0;36m_get_experiment\u001b[1;34m(self, key)\u001b[0m\n\u001b[0;32m    407\u001b[0m         \u001b[0mresult_status\u001b[0m \u001b[1;33m=\u001b[0m \u001b[0mgetattr\u001b[0m\u001b[1;33m(\u001b[0m\u001b[0mself\u001b[0m\u001b[1;33m,\u001b[0m \u001b[1;34m\"status\"\u001b[0m\u001b[1;33m,\u001b[0m \u001b[1;34m\"Result was not successful\"\u001b[0m\u001b[1;33m)\u001b[0m\u001b[1;33m\u001b[0m\u001b[1;33m\u001b[0m\u001b[0m\n\u001b[0;32m    408\u001b[0m         \u001b[0mexp_status\u001b[0m \u001b[1;33m=\u001b[0m \u001b[0mgetattr\u001b[0m\u001b[1;33m(\u001b[0m\u001b[0mexp\u001b[0m\u001b[1;33m,\u001b[0m \u001b[1;34m\"status\"\u001b[0m\u001b[1;33m,\u001b[0m \u001b[1;34m\"Experiment was not successful\"\u001b[0m\u001b[1;33m)\u001b[0m\u001b[1;33m\u001b[0m\u001b[1;33m\u001b[0m\u001b[0m\n\u001b[1;32m--> 409\u001b[1;33m         \u001b[1;32mraise\u001b[0m \u001b[0mQiskitError\u001b[0m\u001b[1;33m(\u001b[0m\u001b[0mresult_status\u001b[0m\u001b[1;33m,\u001b[0m \u001b[1;34m\", \"\u001b[0m\u001b[1;33m,\u001b[0m \u001b[0mexp_status\u001b[0m\u001b[1;33m)\u001b[0m\u001b[1;33m\u001b[0m\u001b[1;33m\u001b[0m\u001b[0m\n\u001b[0m",
      "\u001b[1;31mQiskitError\u001b[0m: 'ERROR:  [Experiment 0] AerSimulator: circuit with instructions {\"instructions\": {gate, measure, barrier, save_unitary}, \"gates\": {cx, s, z, sdg, h, x, y}} is not compatible with any of the automatic simulation methods ,  ERROR: AerSimulator: circuit with instructions {\"instructions\": {gate, measure, barrier, save_unitary}, \"gates\": {cx, s, z, sdg, h, x, y}} is not compatible with any of the automatic simulation methods'"
     ]
    }
   ],
   "source": [
    "#verify that the unitary representing each RB circuit is identity using Aer \n",
    "from qiskit import QuantumCircuit\n",
    "nQ = 1\n",
    "# new circuit without measurement\n",
    "qregs = rb_circs_zero[0][-1].qregs\n",
    "cregs = rb_circs_zero[0][-1].cregs\n",
    "qc = QuantumCircuit(*qregs,*cregs)\n",
    "for i in rb_circs_zero[0][-1][0:-nQ]:\n",
    "    qc.data.append(i)\n",
    "    \n",
    "# The Unitary is an identity (with a global phase)\n",
    "sim = qiskit.Aer.get_backend('aer_simulator')\n",
    "basis_gates = ['u1','u2','u3','cx'] # use U,CX for now\n",
    "qc.save_unitary()\n",
    "unitary = sim.run(qc).result().get_unitary()\n",
    "from qiskit.visualization import array_to_latex\n",
    "array_to_latex(unitary, prefix=\"\\\\text{Unitary} = \")"
   ]
  },
  {
   "cell_type": "code",
   "execution_count": 194,
   "metadata": {},
   "outputs": [
    {
     "name": "stdout",
     "output_type": "stream",
     "text": [
      "<class 'qiskit.ignis.verification.randomized_benchmarking.fitters.RBFitter'>\n",
      "<class 'list'>\n",
      "Compiling seed 0\n",
      "Simulating seed 0\n"
     ]
    },
    {
     "ename": "StopIteration",
     "evalue": "",
     "output_type": "error",
     "traceback": [
      "\u001b[1;31m---------------------------------------------------------------------------\u001b[0m",
      "\u001b[1;31mStopIteration\u001b[0m                             Traceback (most recent call last)",
      "\u001b[1;32m~\\AppData\\Local\\Temp/ipykernel_6864/1562323113.py\u001b[0m in \u001b[0;36m<module>\u001b[1;34m\u001b[0m\n\u001b[0;32m     17\u001b[0m                       max_parallel_experiments=0)\n\u001b[0;32m     18\u001b[0m     \u001b[1;31m# Add data to the fitter\u001b[0m\u001b[1;33m\u001b[0m\u001b[1;33m\u001b[0m\u001b[1;33m\u001b[0m\u001b[0m\n\u001b[1;32m---> 19\u001b[1;33m     \u001b[0mrb_fit\u001b[0m\u001b[1;33m.\u001b[0m\u001b[0madd_data\u001b[0m\u001b[1;33m(\u001b[0m\u001b[0mjob\u001b[0m\u001b[1;33m.\u001b[0m\u001b[0mresult\u001b[0m\u001b[1;33m(\u001b[0m\u001b[1;33m)\u001b[0m\u001b[1;33m)\u001b[0m\u001b[1;33m\u001b[0m\u001b[1;33m\u001b[0m\u001b[0m\n\u001b[0m\u001b[0;32m     20\u001b[0m     \u001b[0mprint\u001b[0m\u001b[1;33m(\u001b[0m\u001b[1;34m'After seed %d, alpha: %f, EPC: %f'\u001b[0m\u001b[1;33m%\u001b[0m\u001b[1;33m(\u001b[0m\u001b[0mrb_seed\u001b[0m\u001b[1;33m,\u001b[0m\u001b[0mrb_fit\u001b[0m\u001b[1;33m.\u001b[0m\u001b[0mfit\u001b[0m\u001b[1;33m[\u001b[0m\u001b[1;36m0\u001b[0m\u001b[1;33m]\u001b[0m\u001b[1;33m[\u001b[0m\u001b[1;34m'params'\u001b[0m\u001b[1;33m]\u001b[0m\u001b[1;33m[\u001b[0m\u001b[1;36m1\u001b[0m\u001b[1;33m]\u001b[0m\u001b[1;33m,\u001b[0m \u001b[0mrb_fit\u001b[0m\u001b[1;33m.\u001b[0m\u001b[0mfit\u001b[0m\u001b[1;33m[\u001b[0m\u001b[1;36m0\u001b[0m\u001b[1;33m]\u001b[0m\u001b[1;33m[\u001b[0m\u001b[1;34m'epc'\u001b[0m\u001b[1;33m]\u001b[0m\u001b[1;33m)\u001b[0m\u001b[1;33m)\u001b[0m\u001b[1;33m\u001b[0m\u001b[1;33m\u001b[0m\u001b[0m\n",
      "\u001b[1;32mc:\\Users\\AbhayK\\Anaconda3\\envs\\Qiskit\\lib\\site-packages\\qiskit\\ignis\\verification\\randomized_benchmarking\\fitters.py\u001b[0m in \u001b[0;36madd_data\u001b[1;34m(self, new_backend_result, rerun_fit)\u001b[0m\n\u001b[0;32m    250\u001b[0m \u001b[1;33m\u001b[0m\u001b[0m\n\u001b[0;32m    251\u001b[0m         \u001b[1;32mif\u001b[0m \u001b[0mrerun_fit\u001b[0m\u001b[1;33m:\u001b[0m\u001b[1;33m\u001b[0m\u001b[1;33m\u001b[0m\u001b[0m\n\u001b[1;32m--> 252\u001b[1;33m             \u001b[0mself\u001b[0m\u001b[1;33m.\u001b[0m\u001b[0mcalc_data\u001b[0m\u001b[1;33m(\u001b[0m\u001b[1;33m)\u001b[0m\u001b[1;33m\u001b[0m\u001b[1;33m\u001b[0m\u001b[0m\n\u001b[0m\u001b[0;32m    253\u001b[0m             \u001b[0mself\u001b[0m\u001b[1;33m.\u001b[0m\u001b[0mcalc_statistics\u001b[0m\u001b[1;33m(\u001b[0m\u001b[1;33m)\u001b[0m\u001b[1;33m\u001b[0m\u001b[1;33m\u001b[0m\u001b[0m\n\u001b[0;32m    254\u001b[0m             \u001b[0mself\u001b[0m\u001b[1;33m.\u001b[0m\u001b[0mfit_data\u001b[0m\u001b[1;33m(\u001b[0m\u001b[1;33m)\u001b[0m\u001b[1;33m\u001b[0m\u001b[1;33m\u001b[0m\u001b[0m\n",
      "\u001b[1;32mc:\\Users\\AbhayK\\Anaconda3\\envs\\Qiskit\\lib\\site-packages\\qiskit\\ignis\\verification\\randomized_benchmarking\\fitters.py\u001b[0m in \u001b[0;36mcalc_data\u001b[1;34m(self)\u001b[0m\n\u001b[0;32m    313\u001b[0m                     \u001b[0mcirc_name\u001b[0m \u001b[1;33m=\u001b[0m \u001b[0mself\u001b[0m\u001b[1;33m.\u001b[0m\u001b[0m_circ_name_type\u001b[0m \u001b[1;33m+\u001b[0m \u001b[1;34m'_length_%d_seed_%d'\u001b[0m\u001b[0;31m \u001b[0m\u001b[0;31m\\\u001b[0m\u001b[1;33m\u001b[0m\u001b[1;33m\u001b[0m\u001b[0m\n\u001b[0;32m    314\u001b[0m                                 \u001b[1;33m%\u001b[0m \u001b[1;33m(\u001b[0m\u001b[0mk\u001b[0m\u001b[1;33m,\u001b[0m \u001b[0mseed\u001b[0m\u001b[1;33m)\u001b[0m\u001b[1;33m\u001b[0m\u001b[1;33m\u001b[0m\u001b[0m\n\u001b[1;32m--> 315\u001b[1;33m                     counts_subspace = marginal_counts(\n\u001b[0m\u001b[0;32m    316\u001b[0m                         \u001b[0mcirc_counts\u001b[0m\u001b[1;33m[\u001b[0m\u001b[0mcirc_name\u001b[0m\u001b[1;33m]\u001b[0m\u001b[1;33m,\u001b[0m\u001b[1;33m\u001b[0m\u001b[1;33m\u001b[0m\u001b[0m\n\u001b[0;32m    317\u001b[0m                         np.arange(startind, endind))\n",
      "\u001b[1;32mc:\\Users\\AbhayK\\Anaconda3\\envs\\Qiskit\\lib\\site-packages\\qiskit\\ignis\\verification\\tomography\\data.py\u001b[0m in \u001b[0;36mmarginal_counts\u001b[1;34m(counts, meas_qubits, pad_zeros)\u001b[0m\n\u001b[0;32m     54\u001b[0m     \u001b[1;31m# We trim the whitespace seperating classical registers\u001b[0m\u001b[1;33m\u001b[0m\u001b[1;33m\u001b[0m\u001b[1;33m\u001b[0m\u001b[0m\n\u001b[0;32m     55\u001b[0m     \u001b[1;31m# and count the number of digits\u001b[0m\u001b[1;33m\u001b[0m\u001b[1;33m\u001b[0m\u001b[1;33m\u001b[0m\u001b[0m\n\u001b[1;32m---> 56\u001b[1;33m     \u001b[0mnum_qubits\u001b[0m \u001b[1;33m=\u001b[0m \u001b[0mlen\u001b[0m\u001b[1;33m(\u001b[0m\u001b[0mnext\u001b[0m\u001b[1;33m(\u001b[0m\u001b[0miter\u001b[0m\u001b[1;33m(\u001b[0m\u001b[0mcounts\u001b[0m\u001b[1;33m)\u001b[0m\u001b[1;33m)\u001b[0m\u001b[1;33m.\u001b[0m\u001b[0mreplace\u001b[0m\u001b[1;33m(\u001b[0m\u001b[1;34m' '\u001b[0m\u001b[1;33m,\u001b[0m \u001b[1;34m''\u001b[0m\u001b[1;33m)\u001b[0m\u001b[1;33m)\u001b[0m\u001b[1;33m\u001b[0m\u001b[1;33m\u001b[0m\u001b[0m\n\u001b[0m\u001b[0;32m     57\u001b[0m \u001b[1;33m\u001b[0m\u001b[0m\n\u001b[0;32m     58\u001b[0m     \u001b[1;31m# Check if we do not need to marginalize. In this case we just trim\u001b[0m\u001b[1;33m\u001b[0m\u001b[1;33m\u001b[0m\u001b[1;33m\u001b[0m\u001b[0m\n",
      "\u001b[1;31mStopIteration\u001b[0m: "
     ]
    }
   ],
   "source": [
    "# Create the RB fitter\n",
    "backend = qiskit.Aer.get_backend('aer_simulator')\n",
    "basis_gates = ['u1','u2','u3','cx'] \n",
    "shots = 200\n",
    "transpiled_circs_list = []\n",
    "rb_fit = rb.RBFitter(None, xdata, rb_opts['rb_pattern'])\n",
    "print(type(rb_fit))\n",
    "for rb_seed, rb_circ_seed in enumerate(a):\n",
    "    print(type(rb_circ_seed))\n",
    "    print(f'Compiling seed {rb_seed}')\n",
    "    new_rb_circ_seed = qiskit.compiler.transpile(rb_circ_seed, basis_gates=basis_gates)\n",
    "    transpiled_circs_list.append(new_rb_circ_seed)\n",
    "    print(f'Simulating seed {rb_seed}')\n",
    "    qobj = assemble(new_rb_circ_seed, shots=shots)\n",
    "    job = backend.run(qobj,\n",
    "                      noise_model=noise_model,\n",
    "                      max_parallel_experiments=0)\n",
    "    # Add data to the fitter\n",
    "    rb_fit.add_data(job.result())\n",
    "    print('After seed %d, alpha: %f, EPC: %f'%(rb_seed,rb_fit.fit[0]['params'][1], rb_fit.fit[0]['epc']))"
   ]
  },
  {
   "cell_type": "code",
   "execution_count": 78,
   "metadata": {},
   "outputs": [],
   "source": [
    "# backend = Aer.get_backend('aer_simulator')\n",
    "# ncircuit = code.get_circuit_list()\n",
    "# noisy_job = backend.run(ncircuit,noise_model=noise_model,max_parallel_experiments=0)"
   ]
  },
  {
   "cell_type": "code",
   "execution_count": 79,
   "metadata": {},
   "outputs": [
    {
     "name": "stdout",
     "output_type": "stream",
     "text": [
      "{'0': 0.0010330578512396695, '1': 0.0041025641025641026}\n"
     ]
    }
   ],
   "source": [
    "# noisy_p = {}\n",
    "\n",
    "# # logical 0\n",
    "# noisy_counts = noisy_job.result().get_counts(0)\n",
    "# if '010 11 00' in noisy_counts:\n",
    "#     noisy_r = noisy_counts['010 11 00']/noisy_counts['000 00 00']\n",
    "#     noisy_p['0'] = noisy_r/(1+noisy_r)\n",
    "# else:\n",
    "#     noisy_p['0'] = 0\n",
    "    \n",
    "# # logical 1\n",
    "# noisy_counts = noisy_job.result().get_counts(1)\n",
    "# if '101 11 00' in noisy_counts:\n",
    "#     noisy_r = noisy_counts['101 11 00']/noisy_counts['111 00 00']\n",
    "#     noisy_p['1'] = noisy_r/(1+noisy_r)\n",
    "# else:\n",
    "#     noisy_p['1'] = 0\n",
    "    \n",
    "# print(noisy_p)"
   ]
  },
  {
   "cell_type": "code",
   "execution_count": 80,
   "metadata": {},
   "outputs": [],
   "source": [
    "p1q_list = np.linspace(0.0,0.02,num=500)\n",
    "p2q_list = np.linspace(0.0,0.01,num=500)\n",
    "zero_list = []\n",
    "one_list = []\n",
    "for p1Q,p2Q in zip(p1q_list,p2q_list):\n",
    "    #Run on noisy simulator\n",
    "\n",
    "    noise_model = NoiseModel()\n",
    "\n",
    "    # Depolarizing error on the gates u2, u3 and cx (assuming the u1 is virtual-Z gate and no error)\n",
    "    # p1Q = 0.02\n",
    "    # p2Q = 0.01\n",
    "\n",
    "    # noise_model.add_all_qubit_quantum_error(depolarizing_error(p1Q, 1), 'u2')\n",
    "    # noise_model.add_all_qubit_quantum_error(depolarizing_error(2 * p1Q, 1), 'u3')\n",
    "    noise_model.add_all_qubit_quantum_error(depolarizing_error(p2Q, 2), 'cx')\n",
    "\n",
    "    backend = Aer.get_backend('aer_simulator')\n",
    "    ncircuit = code.get_circuit_list()\n",
    "    noisy_job = backend.run(ncircuit,noise_model=noise_model,max_parallel_experiments=0)\n",
    "\n",
    "    noisy_p = {}\n",
    "\n",
    "    # logical 0\n",
    "    noisy_counts = noisy_job.result().get_counts(0)\n",
    "    if '010 11 00' in noisy_counts:\n",
    "        noisy_r = noisy_counts['010 11 00']/noisy_counts['000 00 00']\n",
    "        noisy_p['0'] = noisy_r/(1+noisy_r)\n",
    "    else:\n",
    "        noisy_p['0'] = 0\n",
    "        \n",
    "    # logical 1\n",
    "    noisy_counts = noisy_job.result().get_counts(1)\n",
    "    if '101 11 00' in noisy_counts:\n",
    "        noisy_r = noisy_counts['101 11 00']/noisy_counts['111 00 00']\n",
    "        noisy_p['1'] = noisy_r/(1+noisy_r)\n",
    "    else:\n",
    "        noisy_p['1'] = 0\n",
    "        \n",
    "    #print(noisy_p)\n",
    "    zero_list.append(noisy_p['0'])\n",
    "    one_list.append(noisy_p['1'])"
   ]
  },
  {
   "cell_type": "code",
   "execution_count": 81,
   "metadata": {},
   "outputs": [
    {
     "data": {
      "application/vnd.plotly.v1+json": {
       "config": {
        "plotlyServerURL": "https://plot.ly"
       },
       "data": [
        {
         "line": {
          "color": "darkblue",
          "width": 2
         },
         "marker": {
          "colorscale": [
           [
            0,
            "#440154"
           ],
           [
            0.1111111111111111,
            "#482878"
           ],
           [
            0.2222222222222222,
            "#3e4989"
           ],
           [
            0.3333333333333333,
            "#31688e"
           ],
           [
            0.4444444444444444,
            "#26828e"
           ],
           [
            0.5555555555555556,
            "#1f9e89"
           ],
           [
            0.6666666666666666,
            "#35b779"
           ],
           [
            0.7777777777777778,
            "#6ece58"
           ],
           [
            0.8888888888888888,
            "#b5de2b"
           ],
           [
            1,
            "#fde725"
           ]
          ],
          "size": 4
         },
         "type": "scatter3d",
         "x": [
          0,
          0.000040080160320641287,
          0.00008016032064128257,
          0.00012024048096192385,
          0.00016032064128256515,
          0.00020040080160320644,
          0.0002404809619238477,
          0.000280561122244489,
          0.0003206412825651303,
          0.00036072144288577156,
          0.0004008016032064129,
          0.00044088176352705415,
          0.0004809619238476954,
          0.0005210420841683367,
          0.000561122244488978,
          0.0006012024048096193,
          0.0006412825651302606,
          0.0006813627254509019,
          0.0007214428857715431,
          0.0007615230460921845,
          0.0008016032064128258,
          0.000841683366733467,
          0.0008817635270541083,
          0.0009218436873747496,
          0.0009619238476953908,
          0.0010020040080160322,
          0.0010420841683366734,
          0.0010821643286573147,
          0.001122244488977956,
          0.0011623246492985973,
          0.0012024048096192386,
          0.0012424849699398798,
          0.0012825651302605212,
          0.0013226452905811625,
          0.0013627254509018037,
          0.001402805611222445,
          0.0014428857715430862,
          0.0014829659318637276,
          0.001523046092184369,
          0.0015631262525050101,
          0.0016032064128256515,
          0.0016432865731462927,
          0.001683366733466934,
          0.0017234468937875754,
          0.0017635270541082166,
          0.001803607214428858,
          0.0018436873747494991,
          0.0018837675350701405,
          0.0019238476953907816,
          0.001963927855711423,
          0.0020040080160320644,
          0.0020440881763527058,
          0.0020841683366733467,
          0.002124248496993988,
          0.0021643286573146295,
          0.002204408817635271,
          0.002244488977955912,
          0.002284569138276553,
          0.0023246492985971945,
          0.002364729458917836,
          0.0024048096192384773,
          0.0024448897795591186,
          0.0024849699398797596,
          0.002525050100200401,
          0.0025651302605210423,
          0.0026052104208416837,
          0.002645290581162325,
          0.002685370741482966,
          0.0027254509018036074,
          0.0027655310621242488,
          0.00280561122244489,
          0.0028456913827655315,
          0.0028857715430861725,
          0.002925851703406814,
          0.0029659318637274552,
          0.0030060120240480966,
          0.003046092184368738,
          0.003086172344689379,
          0.0031262525050100203,
          0.0031663326653306617,
          0.003206412825651303,
          0.0032464929859719444,
          0.0032865731462925853,
          0.0033266533066132267,
          0.003366733466933868,
          0.0034068136272545095,
          0.003446893787575151,
          0.003486973947895792,
          0.003527054108216433,
          0.0035671342685370745,
          0.003607214428857716,
          0.0036472945891783573,
          0.0036873747494989982,
          0.0037274549098196396,
          0.003767535070140281,
          0.0038076152304609224,
          0.0038476953907815633,
          0.0038877755511022047,
          0.003927855711422846,
          0.003967935871743487,
          0.004008016032064129,
          0.00404809619238477,
          0.0040881763527054115,
          0.0041282565130260525,
          0.004168336673346693,
          0.004208416833667335,
          0.004248496993987976,
          0.004288577154308618,
          0.004328657314629259,
          0.0043687374749499,
          0.004408817635270542,
          0.004448897795591183,
          0.004488977955911824,
          0.004529058116232465,
          0.004569138276553106,
          0.004609218436873748,
          0.004649298597194389,
          0.004689378757515031,
          0.004729458917835672,
          0.004769539078156313,
          0.0048096192384769546,
          0.0048496993987975955,
          0.004889779559118237,
          0.004929859719438878,
          0.004969939879759519,
          0.005010020040080161,
          0.005050100200400802,
          0.005090180360721444,
          0.005130260521042085,
          0.005170340681362726,
          0.005210420841683367,
          0.005250501002004008,
          0.00529058116232465,
          0.005330661322645291,
          0.005370741482965932,
          0.005410821643286574,
          0.005450901803607215,
          0.005490981963927857,
          0.0055310621242484976,
          0.0055711422845691385,
          0.00561122244488978,
          0.005651302605210421,
          0.005691382765531063,
          0.005731462925851704,
          0.005771543086172345,
          0.005811623246492987,
          0.005851703406813628,
          0.0058917835671342695,
          0.0059318637274549104,
          0.005971943887775551,
          0.006012024048096193,
          0.006052104208416834,
          0.006092184368737476,
          0.006132264529058117,
          0.006172344689378758,
          0.0062124248496994,
          0.006252505010020041,
          0.006292585170340682,
          0.006332665330661323,
          0.006372745490981964,
          0.006412825651302606,
          0.006452905811623247,
          0.006492985971943889,
          0.00653306613226453,
          0.006573146292585171,
          0.0066132264529058125,
          0.0066533066132264534,
          0.006693386773547095,
          0.006733466933867736,
          0.006773547094188377,
          0.006813627254509019,
          0.00685370741482966,
          0.006893787575150302,
          0.006933867735470943,
          0.006973947895791584,
          0.007014028056112225,
          0.007054108216432866,
          0.007094188376753508,
          0.007134268537074149,
          0.00717434869739479,
          0.007214428857715432,
          0.007254509018036073,
          0.007294589178356715,
          0.0073346693386773555,
          0.0073747494989979965,
          0.007414829659318638,
          0.007454909819639279,
          0.007494989979959921,
          0.007535070140280562,
          0.007575150300601203,
          0.007615230460921845,
          0.007655310621242486,
          0.007695390781563127,
          0.007735470941883768,
          0.007775551102204409,
          0.00781563126252505,
          0.007855711422845692,
          0.007895791583166334,
          0.007935871743486974,
          0.007975951903807616,
          0.008016032064128258,
          0.0080561122244489,
          0.00809619238476954,
          0.008136272545090181,
          0.008176352705410823,
          0.008216432865731463,
          0.008256513026052105,
          0.008296593186372747,
          0.008336673346693387,
          0.008376753507014029,
          0.00841683366733467,
          0.008456913827655312,
          0.008496993987975952,
          0.008537074148296594,
          0.008577154308617236,
          0.008617234468937876,
          0.008657314629258518,
          0.00869739478957916,
          0.0087374749498998,
          0.008777555110220442,
          0.008817635270541083,
          0.008857715430861725,
          0.008897795591182365,
          0.008937875751503007,
          0.008977955911823649,
          0.009018036072144289,
          0.00905811623246493,
          0.009098196392785573,
          0.009138276553106213,
          0.009178356713426854,
          0.009218436873747496,
          0.009258517034068138,
          0.009298597194388778,
          0.00933867735470942,
          0.009378757515030062,
          0.009418837675350702,
          0.009458917835671344,
          0.009498997995991985,
          0.009539078156312625,
          0.009579158316633267,
          0.009619238476953909,
          0.009659318637274551,
          0.009699398797595191,
          0.009739478957915833,
          0.009779559118236475,
          0.009819639278557115,
          0.009859719438877756,
          0.009899799599198398,
          0.009939879759519038,
          0.00997995991983968,
          0.010020040080160322,
          0.010060120240480964,
          0.010100200400801604,
          0.010140280561122246,
          0.010180360721442887,
          0.010220440881763528,
          0.01026052104208417,
          0.010300601202404811,
          0.010340681362725451,
          0.010380761523046093,
          0.010420841683366735,
          0.010460921843687375,
          0.010501002004008017,
          0.010541082164328659,
          0.0105811623246493,
          0.01062124248496994,
          0.010661322645290582,
          0.010701402805611224,
          0.010741482965931864,
          0.010781563126252506,
          0.010821643286573148,
          0.010861723446893788,
          0.01090180360721443,
          0.010941883767535071,
          0.010981963927855713,
          0.011022044088176353,
          0.011062124248496995,
          0.011102204408817637,
          0.011142284569138277,
          0.011182364729458919,
          0.01122244488977956,
          0.0112625250501002,
          0.011302605210420842,
          0.011342685370741484,
          0.011382765531062126,
          0.011422845691382766,
          0.011462925851703408,
          0.01150300601202405,
          0.01154308617234469,
          0.011583166332665332,
          0.011623246492985973,
          0.011663326653306614,
          0.011703406813627255,
          0.011743486973947897,
          0.011783567134268539,
          0.011823647294589179,
          0.011863727454909821,
          0.011903807615230463,
          0.011943887775551103,
          0.011983967935871745,
          0.012024048096192386,
          0.012064128256513026,
          0.012104208416833668,
          0.01214428857715431,
          0.012184368737474952,
          0.012224448897795592,
          0.012264529058116234,
          0.012304609218436876,
          0.012344689378757516,
          0.012384769539078157,
          0.0124248496993988,
          0.01246492985971944,
          0.012505010020040081,
          0.012545090180360723,
          0.012585170340681365,
          0.012625250501002005,
          0.012665330661322647,
          0.012705410821643288,
          0.012745490981963929,
          0.01278557114228457,
          0.012825651302605212,
          0.012865731462925852,
          0.012905811623246494,
          0.012945891783567136,
          0.012985971943887778,
          0.013026052104208418,
          0.01306613226452906,
          0.013106212424849701,
          0.013146292585170341,
          0.013186372745490983,
          0.013226452905811625,
          0.013266533066132265,
          0.013306613226452907,
          0.013346693386773549,
          0.01338677354709419,
          0.01342685370741483,
          0.013466933867735472,
          0.013507014028056114,
          0.013547094188376754,
          0.013587174348697396,
          0.013627254509018038,
          0.013667334669338678,
          0.01370741482965932,
          0.013747494989979962,
          0.013787575150300603,
          0.013827655310621243,
          0.013867735470941885,
          0.013907815631262527,
          0.013947895791583167,
          0.013987975951903809,
          0.01402805611222445,
          0.01406813627254509,
          0.014108216432865733,
          0.014148296593186374,
          0.014188376753507016,
          0.014228456913827656,
          0.014268537074148298,
          0.01430861723446894,
          0.01434869739478958,
          0.014388777555110222,
          0.014428857715430864,
          0.014468937875751504,
          0.014509018036072146,
          0.014549098196392787,
          0.01458917835671343,
          0.01462925851703407,
          0.014669338677354711,
          0.014709418837675353,
          0.014749498997995993,
          0.014789579158316635,
          0.014829659318637277,
          0.014869739478957917,
          0.014909819639278558,
          0.0149498997995992,
          0.014989979959919842,
          0.015030060120240482,
          0.015070140280561124,
          0.015110220440881766,
          0.015150300601202406,
          0.015190380761523048,
          0.01523046092184369,
          0.01527054108216433,
          0.015310621242484971,
          0.015350701402805613,
          0.015390781563126253,
          0.015430861723446895,
          0.015470941883767537,
          0.015511022044088179,
          0.015551102204408819,
          0.01559118236472946,
          0.0156312625250501,
          0.015671342685370744,
          0.015711422845691384,
          0.015751503006012024,
          0.015791583166332668,
          0.015831663326653308,
          0.015871743486973948,
          0.01591182364729459,
          0.01595190380761523,
          0.01599198396793587,
          0.016032064128256515,
          0.016072144288577155,
          0.0161122244488978,
          0.01615230460921844,
          0.01619238476953908,
          0.016232464929859722,
          0.016272545090180363,
          0.016312625250501003,
          0.016352705410821646,
          0.016392785571142286,
          0.016432865731462926,
          0.01647294589178357,
          0.01651302605210421,
          0.01655310621242485,
          0.016593186372745494,
          0.016633266533066134,
          0.016673346693386774,
          0.016713426853707417,
          0.016753507014028057,
          0.016793587174348697,
          0.01683366733466934,
          0.01687374749498998,
          0.016913827655310625,
          0.016953907815631265,
          0.016993987975951905,
          0.017034068136272548,
          0.01707414829659319,
          0.01711422845691383,
          0.017154308617234472,
          0.017194388777555112,
          0.017234468937875752,
          0.017274549098196396,
          0.017314629258517036,
          0.017354709418837676,
          0.01739478957915832,
          0.01743486973947896,
          0.0174749498997996,
          0.017515030060120243,
          0.017555110220440883,
          0.017595190380761523,
          0.017635270541082167,
          0.017675350701402807,
          0.01771543086172345,
          0.01775551102204409,
          0.01779559118236473,
          0.017835671342685374,
          0.017875751503006014,
          0.017915831663326654,
          0.017955911823647298,
          0.017995991983967938,
          0.018036072144288578,
          0.01807615230460922,
          0.01811623246492986,
          0.0181563126252505,
          0.018196392785571145,
          0.018236472945891785,
          0.018276553106212425,
          0.01831663326653307,
          0.01835671342685371,
          0.01839679358717435,
          0.018436873747494992,
          0.018476953907815633,
          0.018517034068136276,
          0.018557114228456916,
          0.018597194388777556,
          0.0186372745490982,
          0.01867735470941884,
          0.01871743486973948,
          0.018757515030060123,
          0.018797595190380764,
          0.018837675350701404,
          0.018877755511022047,
          0.018917835671342687,
          0.018957915831663327,
          0.01899799599198397,
          0.01903807615230461,
          0.01907815631262525,
          0.019118236472945895,
          0.019158316633266535,
          0.019198396793587175,
          0.019238476953907818,
          0.01927855711422846,
          0.019318637274549102,
          0.019358717434869742,
          0.019398797595190382,
          0.019438877755511026,
          0.019478957915831666,
          0.019519038076152306,
          0.01955911823647295,
          0.01959919839679359,
          0.01963927855711423,
          0.019679358717434873,
          0.019719438877755513,
          0.019759519038076153,
          0.019799599198396797,
          0.019839679358717437,
          0.019879759519038077,
          0.01991983967935872,
          0.01995991983967936,
          0.02
         ],
         "y": [
          0,
          0,
          0,
          0,
          0,
          0,
          0,
          0,
          0,
          0,
          0,
          0,
          0.0009765625,
          0,
          0,
          0,
          0,
          0,
          0,
          0,
          0,
          0.0009784735812133072,
          0,
          0,
          0,
          0,
          0,
          0.0009784735812133072,
          0.0019569471624266144,
          0,
          0,
          0,
          0,
          0.0009784735812133072,
          0,
          0,
          0.000982318271119843,
          0.0019627085377821396,
          0,
          0.000980392156862745,
          0,
          0,
          0,
          0.0019627085377821396,
          0,
          0,
          0,
          0.0009832841691248771,
          0,
          0,
          0,
          0.0019704433497536944,
          0.0019665683382497543,
          0,
          0.000982318271119843,
          0,
          0,
          0.0009794319294809011,
          0.001968503937007874,
          0.0019665683382497543,
          0.0009861932938856014,
          0,
          0,
          0,
          0,
          0,
          0.0009832841691248771,
          0,
          0,
          0,
          0,
          0,
          0.0019821605550049554,
          0.000982318271119843,
          0,
          0,
          0,
          0,
          0,
          0.0009871668311944718,
          0.0019646365422396855,
          0,
          0,
          0,
          0,
          0.0009852216748768474,
          0,
          0.0019723865877712033,
          0.0019743336623889436,
          0,
          0,
          0.0009871668311944718,
          0.001968503937007874,
          0.002946954813359529,
          0,
          0.0019569471624266144,
          0.001968503937007874,
          0,
          0.0019880715705765406,
          0.0009842519685039368,
          0,
          0.000992063492063492,
          0,
          0.0009842519685039368,
          0,
          0.0009871668311944718,
          0.0009900990099009901,
          0.0009891196834817012,
          0.0029615004935834156,
          0.001984126984126984,
          0.002964426877470356,
          0.0009891196834817012,
          0.0009891196834817012,
          0.005952380952380953,
          0.001976284584980237,
          0.001968503937007874,
          0.003964321110009911,
          0,
          0.0009950248756218905,
          0.0009910802775024777,
          0.0019743336623889436,
          0.0009881422924901185,
          0,
          0.0009950248756218905,
          0.0009900990099009901,
          0.000992063492063492,
          0.00396039603960396,
          0,
          0,
          0.0009950248756218905,
          0.0009930486593843098,
          0.0009861932938856014,
          0.0019801980198019802,
          0.00298804780876494,
          0.0009930486593843098,
          0,
          0.0020060180541624875,
          0,
          0.0029910269192422734,
          0.0019920318725099597,
          0,
          0.0009950248756218905,
          0,
          0.0009881422924901185,
          0,
          0.0009930486593843098,
          0.0009871668311944718,
          0,
          0,
          0.0019940179461615157,
          0.0009891196834817012,
          0.0029732408325074326,
          0.0009960159362549798,
          0.003964321110009911,
          0.0019880715705765406,
          0,
          0.001990049751243781,
          0.0019940179461615157,
          0.0009940357852882703,
          0.0009891196834817012,
          0,
          0.0019940179461615157,
          0.0010010010010010008,
          0.0010040160642570282,
          0,
          0.0010010010010010008,
          0.0009900990099009901,
          0.0009990009990009992,
          0,
          0.0010020040080160322,
          0.001998001998001998,
          0.0009990009990009992,
          0.003968253968253968,
          0.0009970089730807576,
          0.002985074626865672,
          0.0029910269192422734,
          0,
          0.001990049751243781,
          0.003992015968063872,
          0.00298804780876494,
          0.0019880715705765406,
          0.0009970089730807576,
          0.002,
          0,
          0.0009930486593843098,
          0.0009940357852882703,
          0.001984126984126984,
          0,
          0.0029910269192422734,
          0.0029999999999999996,
          0.00298804780876494,
          0,
          0.0009930486593843098,
          0.0009950248756218905,
          0,
          0.0009970089730807576,
          0.0019940179461615157,
          0,
          0.000992063492063492,
          0.0029999999999999996,
          0.0019880715705765406,
          0,
          0.001990049751243781,
          0.003999999999999999,
          0.001996007984031936,
          0.002004008016032064,
          0.0019821605550049554,
          0.0029910269192422734,
          0.00101010101010101,
          0.001996007984031936,
          0.00298804780876494,
          0.0020060180541624875,
          0.0030181086519114686,
          0,
          0.001984126984126984,
          0.003976143141153081,
          0.003972194637537239,
          0.004945598417408507,
          0.006054490413723511,
          0.002002002002002002,
          0.0010080645161290322,
          0.005982053838484546,
          0.004016064257028112,
          0,
          0.0029910269192422734,
          0.0019920318725099597,
          0.002012072434607646,
          0.004004004004004004,
          0.0029999999999999996,
          0.005020080321285141,
          0.00202020202020202,
          0.004012036108324975,
          0.007014028056112224,
          0.004012036108324975,
          0,
          0.003036437246963563,
          0.0010010010010010008,
          0.0030060120240480957,
          0.0010050251256281408,
          0.0030150753768844224,
          0.0009960159362549798,
          0.0030150753768844224,
          0.004995004995004995,
          0.002004008016032064,
          0.0020060180541624875,
          0.004012036108324975,
          0.004044489383215369,
          0.004024144869215291,
          0.002002002002002002,
          0.005010020040080161,
          0.0039880358923230315,
          0.004016064257028112,
          0.002022244691607685,
          0.003996003996003996,
          0.002994011976047904,
          0.002002002002002002,
          0.002038735983690112,
          0.003012048192771084,
          0,
          0.002022244691607685,
          0.0030150753768844224,
          0.0020161290322580645,
          0.001996007984031936,
          0.003012048192771084,
          0.002994011976047904,
          0.0010040160642570282,
          0.002,
          0.00101010101010101,
          0.004012036108324975,
          0.0009990009990009992,
          0.0020080321285140565,
          0.004020100502512563,
          0.003009027081243731,
          0.004048582995951417,
          0.002002002002002002,
          0.002,
          0.0010030090270812437,
          0.003012048192771084,
          0.004024144869215291,
          0.0020080321285140565,
          0.0020161290322580645,
          0.004077471967380225,
          0.004016064257028112,
          0.0050150451354062184,
          0.0030181086519114686,
          0.0050251256281407045,
          0.0030425963488843813,
          0.00508130081300813,
          0.0020161290322580645,
          0.0010080645161290322,
          0.003036437246963563,
          0.003976143141153081,
          0.0030181086519114686,
          0.0010131712259371832,
          0.003027245206861756,
          0.005040322580645161,
          0.0010162601626016261,
          0.0010090817356205853,
          0.0010080645161290322,
          0.005045408678102927,
          0.006042296072507553,
          0.0010080645161290322,
          0.005020080321285141,
          0.005070993914807302,
          0.0010131712259371832,
          0.003036437246963563,
          0.006024096385542168,
          0,
          0.00303030303030303,
          0.004028197381671702,
          0.0010111223458038423,
          0.0020181634712411706,
          0.0020283975659229213,
          0.0010121457489878543,
          0.004077471967380225,
          0.0020283975659229213,
          0.0020140986908358514,
          0.0010060362173038228,
          0.00303030303030303,
          0.003021148036253777,
          0.00508130081300813,
          0.005060728744939272,
          0.005102040816326531,
          0.003027245206861756,
          0.007113821138211383,
          0.0030456852791878168,
          0,
          0.002030456852791878,
          0.00202020202020202,
          0,
          0.005982053838484546,
          0.002026342451874367,
          0.004044489383215369,
          0.00403225806451613,
          0.0010121457489878543,
          0,
          0.004106776180698152,
          0,
          0.004081632653061225,
          0.0010183299389002038,
          0.005040322580645161,
          0.0070921985815602835,
          0.0030456852791878168,
          0.004052684903748734,
          0.0020283975659229213,
          0.002026342451874367,
          0.003024193548387097,
          0.0030425963488843813,
          0,
          0.0020470829068577278,
          0.002032520325203252,
          0.005055611729019211,
          0.00404040404040404,
          0.0030706243602865915,
          0.003048780487804878,
          0.004077471967380225,
          0.002030456852791878,
          0.007042253521126761,
          0.0030737704918032786,
          0.004036326942482341,
          0.002034587995930824,
          0.0040858018386108275,
          0.003012048192771084,
          0.003054989816700611,
          0.0030333670374115265,
          0.0020408163265306124,
          0.003076923076923077,
          0.00404040404040404,
          0,
          0.0071428571428571435,
          0.0010162601626016261,
          0.00408997955010225,
          0.0030425963488843813,
          0.006122448979591837,
          0.0030395136778115506,
          0.0030333670374115265,
          0.006122448979591837,
          0.0010204081632653062,
          0.0040609137055837565,
          0.005112474437627811,
          0.0020366598778004076,
          0.0020491803278688526,
          0.003036437246963563,
          0.004077471967380225,
          0.0020491803278688526,
          0.002034587995930824,
          0.009155645981688708,
          0.0030456852791878168,
          0.007194244604316546,
          0.009174311926605503,
          0.0020512820512820517,
          0.0030581039755351682,
          0.0030395136778115506,
          0.0010204081632653062,
          0.0010256410256410256,
          0.004052684903748734,
          0.0010183299389002038,
          0.0071574642126789375,
          0.0020408163265306124,
          0.0010245901639344263,
          0.006153846153846154,
          0.006097560975609756,
          0.00408997955010225,
          0.004077471967380225,
          0.005107252298263534,
          0.0040941658137154556,
          0.0030395136778115506,
          0.0051387461459403904,
          0.003076923076923077,
          0.0071428571428571435,
          0.0030612244897959186,
          0.0010183299389002038,
          0.0051440329218107,
          0.003024193548387097,
          0.003054989816700611,
          0.004073319755600815,
          0.004077471967380225,
          0.005122950819672132,
          0.005102040816326531,
          0.0030643513789581204,
          0.006060606060606061,
          0.00509683995922528,
          0.0020597322348094743,
          0.005186721991701244,
          0.0030612244897959186,
          0.0020366598778004076,
          0.006179196704428423,
          0.007186858316221766,
          0.003083247687564234,
          0.002044989775051125,
          0.0030581039755351682,
          0.004123711340206186,
          0.0020746887966804984,
          0.009268795056642637,
          0.004123711340206186,
          0.007135575942915392,
          0.0030395136778115506,
          0.0030643513789581204,
          0.00509683995922528,
          0.004098360655737705,
          0.0030895983522142125,
          0.006191950464396284,
          0.00408997955010225,
          0.002044989775051125,
          0.010224948875255624,
          0.0020597322348094743,
          0.007164790174002048,
          0.0020491803278688526,
          0.0071428571428571435,
          0.004158004158004157,
          0.006085192697768762,
          0.0020746887966804984,
          0.007209062821833162,
          0.00205761316872428,
          0.007164790174002048,
          0.002070393374741201,
          0.0030895983522142125,
          0,
          0.00521920668058455,
          0.0031185031185031182,
          0.0031088082901554407,
          0.006191950464396284,
          0.010235414534288638,
          0.006179196704428423,
          0.005192107995846314,
          0.00617283950617284,
          0.004153686396677051,
          0.003080082135523614,
          0.004119464469618949,
          0.0051440329218107,
          0.004119464469618949,
          0.0041109969167523125,
          0.006211180124223602,
          0.0072992700729927005,
          0.006243496357960458,
          0.006191950464396284,
          0.004153686396677051,
          0.005159958720330237,
          0.0071794871794871795,
          0.0061349693251533735,
          0.00819672131147541,
          0.0020554984583761563,
          0.006185567010309278,
          0.007135575942915392,
          0.007284079084287201,
          0.0041025641025641026,
          0.002066115702479339,
          0.0020554984583761563,
          0.0041025641025641026,
          0.0020533880903490765,
          0.006230529595015576,
          0.008307372793354103,
          0.005241090146750524,
          0.004136504653567735,
          0.0020597322348094743,
          0.006141248720573183,
          0.00819672131147541,
          0.007261410788381743,
          0.004197271773347324,
          0.005128205128205128
         ],
         "z": [
          0,
          0,
          0,
          0,
          0,
          0,
          0,
          0,
          0,
          0,
          0,
          0,
          0,
          0,
          0.0009794319294809011,
          0,
          0,
          0,
          0,
          0.0009784735812133072,
          0,
          0,
          0,
          0,
          0,
          0.0009842519685039368,
          0,
          0,
          0,
          0,
          0,
          0,
          0.0009794319294809011,
          0.0009832841691248771,
          0.000982318271119843,
          0.0009784735812133072,
          0.0009784735812133072,
          0,
          0,
          0,
          0,
          0,
          0,
          0,
          0.0009775171065493646,
          0,
          0,
          0.00196078431372549,
          0.0009784735812133072,
          0,
          0.0009813542688910696,
          0.0009842519685039368,
          0,
          0,
          0.0009891196834817012,
          0.0019723865877712033,
          0,
          0,
          0,
          0,
          0,
          0,
          0.0009852216748768474,
          0,
          0,
          0,
          0.000980392156862745,
          0.0009794319294809011,
          0.0009813542688910696,
          0.0009871668311944718,
          0.00196078431372549,
          0.0019627085377821396,
          0.001976284584980237,
          0.0009842519685039368,
          0.0019743336623889436,
          0.002944062806673209,
          0.0009861932938856014,
          0,
          0.0009832841691248771,
          0,
          0.0009852216748768474,
          0.0009832841691248771,
          0,
          0,
          0,
          0.0009813542688910696,
          0.0009813542688910696,
          0.0019801980198019802,
          0.0009891196834817012,
          0,
          0,
          0,
          0,
          0.0009900990099009901,
          0.0009881422924901185,
          0,
          0.0009861932938856014,
          0.0009871668311944718,
          0.0019704433497536944,
          0,
          0,
          0,
          0,
          0,
          0.000992063492063492,
          0,
          0.0009871668311944718,
          0,
          0.0009891196834817012,
          0,
          0,
          0,
          0,
          0.0019801980198019802,
          0.0009891196834817012,
          0.0019860973187686196,
          0.0019880715705765406,
          0.0009910802775024777,
          0.0009861932938856014,
          0,
          0.0029585798816568047,
          0,
          0.0009861932938856014,
          0.0019860973187686196,
          0.0009930486593843098,
          0.0009861932938856014,
          0,
          0.0019782393669634025,
          0.000992063492063492,
          0.0009891196834817012,
          0.0009900990099009901,
          0.001984126984126984,
          0.0019920318725099597,
          0.0029673590504451035,
          0.000992063492063492,
          0,
          0.0009881422924901185,
          0.0019860973187686196,
          0.0009891196834817012,
          0.0019880715705765406,
          0.0019801980198019802,
          0.0019743336623889436,
          0,
          0.0009970089730807576,
          0.0019782393669634025,
          0.0029673590504451035,
          0,
          0.001990049751243781,
          0.0029910269192422734,
          0.0009930486593843098,
          0.0029791459781529296,
          0.0029791459781529296,
          0.0009891196834817012,
          0.00495049504950495,
          0.0029791459781529296,
          0.0029615004935834156,
          0,
          0.002994011976047904,
          0.002982107355864811,
          0,
          0.0009930486593843098,
          0.0029761904761904765,
          0.0009900990099009901,
          0.001984126984126984,
          0.0009940357852882703,
          0.001984126984126984,
          0.000998003992015968,
          0.002010050251256281,
          0.0029910269192422734,
          0.0009930486593843098,
          0.002,
          0,
          0.000998003992015968,
          0.002985074626865672,
          0.0010040160642570282,
          0.00495049504950495,
          0.003948667324777887,
          0,
          0.0009891196834817012,
          0.0009999999999999998,
          0.0009960159362549798,
          0.002982107355864811,
          0.002002002002002002,
          0.0029761904761904765,
          0.0009960159362549798,
          0.0029732408325074326,
          0.003968253968253968,
          0.0010020040080160322,
          0.003003003003003003,
          0.0030181086519114686,
          0.0009930486593843098,
          0.0009999999999999998,
          0.0009950248756218905,
          0.0020060180541624875,
          0.003999999999999999,
          0.0009970089730807576,
          0.005,
          0.001996007984031936,
          0.0009900990099009901,
          0.004020100502512563,
          0.0029999999999999996,
          0.002,
          0.0020060180541624875,
          0.002,
          0.003999999999999999,
          0.001990049751243781,
          0.0009940357852882703,
          0.00298804780876494,
          0,
          0.0020080321285140565,
          0.002985074626865672,
          0.003003003003003003,
          0.003024193548387097,
          0.006006006006006006,
          0.002004008016032064,
          0.001996007984031936,
          0.0009970089730807576,
          0.003972194637537239,
          0.0019920318725099597,
          0.0019940179461615157,
          0.003009027081243731,
          0.004008016032064129,
          0.0009940357852882703,
          0.001990049751243781,
          0.002032520325203252,
          0.001998001998001998,
          0.002002002002002002,
          0.0009990009990009992,
          0.0020161290322580645,
          0.0020080321285140565,
          0.005030181086519115,
          0.0009970089730807576,
          0.001998001998001998,
          0.002010050251256281,
          0.003009027081243731,
          0.0020060180541624875,
          0.0039880358923230315,
          0.006012024048096192,
          0.003999999999999999,
          0.002012072434607646,
          0.005030181086519115,
          0.0010121457489878543,
          0.003027245206861756,
          0.0009930486593843098,
          0.002026342451874367,
          0,
          0.002,
          0.004036326942482341,
          0,
          0.0010010010010010008,
          0.0010080645161290322,
          0.002004008016032064,
          0.0010111223458038423,
          0.0010050251256281408,
          0.0010080645161290322,
          0.0050150451354062184,
          0.004036326942482341,
          0.003024193548387097,
          0.0009940357852882703,
          0,
          0.0020080321285140565,
          0.0020512820512820517,
          0.0020283975659229213,
          0.004052684903748734,
          0.003009027081243731,
          0.004024144869215291,
          0.0010040160642570282,
          0.004008016032064129,
          0.0009999999999999998,
          0,
          0.002012072434607646,
          0.0010050251256281408,
          0,
          0.0010141987829614604,
          0.00303030303030303,
          0.0010070493454179255,
          0.005050505050505051,
          0.003003003003003003,
          0.003024193548387097,
          0.0020060180541624875,
          0,
          0.004044489383215369,
          0.00298804780876494,
          0.0010060362173038228,
          0.0020140986908358514,
          0.00404040404040404,
          0.0040650406504065045,
          0.002985074626865672,
          0.0009990009990009992,
          0.003996003996003996,
          0.002034587995930824,
          0.003036437246963563,
          0.004012036108324975,
          0.005030181086519115,
          0.0020080321285140565,
          0.0010090817356205853,
          0.00408997955010225,
          0.004077471967380225,
          0.003021148036253777,
          0.004073319755600815,
          0.003024193548387097,
          0,
          0.004044489383215369,
          0.003036437246963563,
          0.0010121457489878543,
          0.0020242914979757085,
          0.0020242914979757085,
          0.007063572149344097,
          0.007128309572301425,
          0.003021148036253777,
          0.005050505050505051,
          0.0030395136778115506,
          0.0030395136778115506,
          0.0020140986908358514,
          0.0020181634712411706,
          0.00303030303030303,
          0.0010020040080160322,
          0.0020242914979757085,
          0.0020140986908358514,
          0.002004008016032064,
          0.0030456852791878168,
          0.004069175991861649,
          0.00202020202020202,
          0.002030456852791878,
          0.006066734074823053,
          0.004048582995951417,
          0.005050505050505051,
          0.0010193679918450564,
          0.0020080321285140565,
          0.0020181634712411706,
          0.003021148036253777,
          0.0060790273556231,
          0.005091649694501019,
          0.002038735983690112,
          0.00404040404040404,
          0.006054490413723511,
          0.003024193548387097,
          0.004048582995951417,
          0.005060728744939272,
          0.005030181086519115,
          0.005040322580645161,
          0.0010111223458038423,
          0.002022244691607685,
          0.0030643513789581204,
          0.0020140986908358514,
          0.005102040816326531,
          0.007113821138211383,
          0.003048780487804878,
          0.0010050251256281408,
          0.003009027081243731,
          0.0020366598778004076,
          0.0040609137055837565,
          0.002022244691607685,
          0.002002002002002002,
          0.004077471967380225,
          0.0030612244897959186,
          0.006054490413723511,
          0.0030395136778115506,
          0.002034587995930824,
          0.002026342451874367,
          0.002026342451874367,
          0.0020283975659229213,
          0.0020429009193054137,
          0.004081632653061225,
          0.0061162079510703364,
          0.0020161290322580645,
          0.005060728744939272,
          0.00819672131147541,
          0.004048582995951417,
          0.0030674846625766876,
          0.004077471967380225,
          0.003024193548387097,
          0.0030643513789581204,
          0.003083247687564234,
          0.0061162079510703364,
          0.0040609137055837565,
          0.0071501532175689475,
          0.006060606060606061,
          0.00819672131147541,
          0.0030425963488843813,
          0.0010245901639344263,
          0.00303030303030303,
          0.004044489383215369,
          0.0010256410256410256,
          0.004073319755600815,
          0.0020533880903490765,
          0.005055611729019211,
          0.0060790273556231,
          0.007106598984771573,
          0.0030612244897959186,
          0.005102040816326531,
          0.004048582995951417,
          0.0041025641025641026,
          0.0020512820512820517,
          0.0051440329218107,
          0.0010162601626016261,
          0.0030643513789581204,
          0.003054989816700611,
          0.004048582995951417,
          0.0020597322348094743,
          0.006103763987792472,
          0.005128205128205128,
          0.0020554984583761563,
          0.005065856129685917,
          0.006122448979591837,
          0.0020366598778004076,
          0.004115226337448559,
          0.006091370558375634,
          0.0030737704918032786,
          0.003054989816700611,
          0.008138351983723296,
          0.0010319917440660476,
          0.004077471967380225,
          0.006109979633401223,
          0.006122448979591837,
          0.006122448979591837,
          0.002038735983690112,
          0.005128205128205128,
          0.006097560975609756,
          0.0041025641025641026,
          0.007128309572301425,
          0.006109979633401223,
          0.002038735983690112,
          0.004119464469618949,
          0.0071501532175689475,
          0.005170630816959669,
          0.004098360655737705,
          0.00508646998982706,
          0,
          0.006166495375128468,
          0.003076923076923077,
          0.006153846153846154,
          0.005102040816326531,
          0.00511770726714432,
          0.0051387461459403904,
          0.009183673469387756,
          0.002061855670103093,
          0.0030643513789581204,
          0.00408997955010225,
          0.006224066390041494,
          0.006109979633401223,
          0.005159958720330237,
          0.00308641975308642,
          0.007231404958677686,
          0.003092783505154639,
          0.0040609137055837565,
          0.005154639175257732,
          0.005122950819672132,
          0.004098360655737705,
          0.0041025641025641026,
          0.0030991735537190084,
          0.003083247687564234,
          0.0041279669762641896,
          0.0041109969167523125,
          0.00511770726714432,
          0.003092783505154639,
          0.0071501532175689475,
          0.0030737704918032786,
          0.007194244604316546,
          0.005159958720330237,
          0.006147540983606557,
          0.002081165452653486,
          0.004136504653567735,
          0.0041450777202072546,
          0.0031023784901758012,
          0.010256410256410256,
          0.007261410788381743,
          0.004098360655737705,
          0.007216494845360825,
          0.006243496357960458,
          0.0010330578512396695,
          0.003115264797507788,
          0.0010351966873706003,
          0.006217616580310881,
          0.004166666666666667,
          0.010256410256410256,
          0.004106776180698152,
          0.003125,
          0.007216494845360825,
          0.004132231404958678,
          0.002081165452653486,
          0.006166495375128468,
          0.004153686396677051,
          0.006211180124223602,
          0.00205761316872428,
          0.009278350515463916,
          0.0072016460905349805,
          0.005107252298263534,
          0.0020470829068577278,
          0.0041928721174004195,
          0.007246376811594202,
          0.00509683995922528,
          0.0031185031185031182,
          0.006097560975609756,
          0.006237006237006237,
          0.0071794871794871795,
          0.004123711340206186,
          0.006243496357960458,
          0.0031120331950207467,
          0.004115226337448559
         ]
        }
       ],
       "layout": {
        "autosize": false,
        "height": 700,
        "scene": {
         "aspectmode": "manual",
         "aspectratio": {
          "x": 1,
          "y": 1,
          "z": 0.7
         },
         "camera": {
          "eye": {
           "x": 0,
           "y": 1.0707,
           "z": 1
          },
          "up": {
           "x": 0,
           "y": 0,
           "z": 1
          }
         }
        },
        "template": {
         "data": {
          "bar": [
           {
            "error_x": {
             "color": "#2a3f5f"
            },
            "error_y": {
             "color": "#2a3f5f"
            },
            "marker": {
             "line": {
              "color": "#E5ECF6",
              "width": 0.5
             },
             "pattern": {
              "fillmode": "overlay",
              "size": 10,
              "solidity": 0.2
             }
            },
            "type": "bar"
           }
          ],
          "barpolar": [
           {
            "marker": {
             "line": {
              "color": "#E5ECF6",
              "width": 0.5
             },
             "pattern": {
              "fillmode": "overlay",
              "size": 10,
              "solidity": 0.2
             }
            },
            "type": "barpolar"
           }
          ],
          "carpet": [
           {
            "aaxis": {
             "endlinecolor": "#2a3f5f",
             "gridcolor": "white",
             "linecolor": "white",
             "minorgridcolor": "white",
             "startlinecolor": "#2a3f5f"
            },
            "baxis": {
             "endlinecolor": "#2a3f5f",
             "gridcolor": "white",
             "linecolor": "white",
             "minorgridcolor": "white",
             "startlinecolor": "#2a3f5f"
            },
            "type": "carpet"
           }
          ],
          "choropleth": [
           {
            "colorbar": {
             "outlinewidth": 0,
             "ticks": ""
            },
            "type": "choropleth"
           }
          ],
          "contour": [
           {
            "colorbar": {
             "outlinewidth": 0,
             "ticks": ""
            },
            "colorscale": [
             [
              0,
              "#0d0887"
             ],
             [
              0.1111111111111111,
              "#46039f"
             ],
             [
              0.2222222222222222,
              "#7201a8"
             ],
             [
              0.3333333333333333,
              "#9c179e"
             ],
             [
              0.4444444444444444,
              "#bd3786"
             ],
             [
              0.5555555555555556,
              "#d8576b"
             ],
             [
              0.6666666666666666,
              "#ed7953"
             ],
             [
              0.7777777777777778,
              "#fb9f3a"
             ],
             [
              0.8888888888888888,
              "#fdca26"
             ],
             [
              1,
              "#f0f921"
             ]
            ],
            "type": "contour"
           }
          ],
          "contourcarpet": [
           {
            "colorbar": {
             "outlinewidth": 0,
             "ticks": ""
            },
            "type": "contourcarpet"
           }
          ],
          "heatmap": [
           {
            "colorbar": {
             "outlinewidth": 0,
             "ticks": ""
            },
            "colorscale": [
             [
              0,
              "#0d0887"
             ],
             [
              0.1111111111111111,
              "#46039f"
             ],
             [
              0.2222222222222222,
              "#7201a8"
             ],
             [
              0.3333333333333333,
              "#9c179e"
             ],
             [
              0.4444444444444444,
              "#bd3786"
             ],
             [
              0.5555555555555556,
              "#d8576b"
             ],
             [
              0.6666666666666666,
              "#ed7953"
             ],
             [
              0.7777777777777778,
              "#fb9f3a"
             ],
             [
              0.8888888888888888,
              "#fdca26"
             ],
             [
              1,
              "#f0f921"
             ]
            ],
            "type": "heatmap"
           }
          ],
          "heatmapgl": [
           {
            "colorbar": {
             "outlinewidth": 0,
             "ticks": ""
            },
            "colorscale": [
             [
              0,
              "#0d0887"
             ],
             [
              0.1111111111111111,
              "#46039f"
             ],
             [
              0.2222222222222222,
              "#7201a8"
             ],
             [
              0.3333333333333333,
              "#9c179e"
             ],
             [
              0.4444444444444444,
              "#bd3786"
             ],
             [
              0.5555555555555556,
              "#d8576b"
             ],
             [
              0.6666666666666666,
              "#ed7953"
             ],
             [
              0.7777777777777778,
              "#fb9f3a"
             ],
             [
              0.8888888888888888,
              "#fdca26"
             ],
             [
              1,
              "#f0f921"
             ]
            ],
            "type": "heatmapgl"
           }
          ],
          "histogram": [
           {
            "marker": {
             "pattern": {
              "fillmode": "overlay",
              "size": 10,
              "solidity": 0.2
             }
            },
            "type": "histogram"
           }
          ],
          "histogram2d": [
           {
            "colorbar": {
             "outlinewidth": 0,
             "ticks": ""
            },
            "colorscale": [
             [
              0,
              "#0d0887"
             ],
             [
              0.1111111111111111,
              "#46039f"
             ],
             [
              0.2222222222222222,
              "#7201a8"
             ],
             [
              0.3333333333333333,
              "#9c179e"
             ],
             [
              0.4444444444444444,
              "#bd3786"
             ],
             [
              0.5555555555555556,
              "#d8576b"
             ],
             [
              0.6666666666666666,
              "#ed7953"
             ],
             [
              0.7777777777777778,
              "#fb9f3a"
             ],
             [
              0.8888888888888888,
              "#fdca26"
             ],
             [
              1,
              "#f0f921"
             ]
            ],
            "type": "histogram2d"
           }
          ],
          "histogram2dcontour": [
           {
            "colorbar": {
             "outlinewidth": 0,
             "ticks": ""
            },
            "colorscale": [
             [
              0,
              "#0d0887"
             ],
             [
              0.1111111111111111,
              "#46039f"
             ],
             [
              0.2222222222222222,
              "#7201a8"
             ],
             [
              0.3333333333333333,
              "#9c179e"
             ],
             [
              0.4444444444444444,
              "#bd3786"
             ],
             [
              0.5555555555555556,
              "#d8576b"
             ],
             [
              0.6666666666666666,
              "#ed7953"
             ],
             [
              0.7777777777777778,
              "#fb9f3a"
             ],
             [
              0.8888888888888888,
              "#fdca26"
             ],
             [
              1,
              "#f0f921"
             ]
            ],
            "type": "histogram2dcontour"
           }
          ],
          "mesh3d": [
           {
            "colorbar": {
             "outlinewidth": 0,
             "ticks": ""
            },
            "type": "mesh3d"
           }
          ],
          "parcoords": [
           {
            "line": {
             "colorbar": {
              "outlinewidth": 0,
              "ticks": ""
             }
            },
            "type": "parcoords"
           }
          ],
          "pie": [
           {
            "automargin": true,
            "type": "pie"
           }
          ],
          "scatter": [
           {
            "fillpattern": {
             "fillmode": "overlay",
             "size": 10,
             "solidity": 0.2
            },
            "type": "scatter"
           }
          ],
          "scatter3d": [
           {
            "line": {
             "colorbar": {
              "outlinewidth": 0,
              "ticks": ""
             }
            },
            "marker": {
             "colorbar": {
              "outlinewidth": 0,
              "ticks": ""
             }
            },
            "type": "scatter3d"
           }
          ],
          "scattercarpet": [
           {
            "marker": {
             "colorbar": {
              "outlinewidth": 0,
              "ticks": ""
             }
            },
            "type": "scattercarpet"
           }
          ],
          "scattergeo": [
           {
            "marker": {
             "colorbar": {
              "outlinewidth": 0,
              "ticks": ""
             }
            },
            "type": "scattergeo"
           }
          ],
          "scattergl": [
           {
            "marker": {
             "colorbar": {
              "outlinewidth": 0,
              "ticks": ""
             }
            },
            "type": "scattergl"
           }
          ],
          "scattermapbox": [
           {
            "marker": {
             "colorbar": {
              "outlinewidth": 0,
              "ticks": ""
             }
            },
            "type": "scattermapbox"
           }
          ],
          "scatterpolar": [
           {
            "marker": {
             "colorbar": {
              "outlinewidth": 0,
              "ticks": ""
             }
            },
            "type": "scatterpolar"
           }
          ],
          "scatterpolargl": [
           {
            "marker": {
             "colorbar": {
              "outlinewidth": 0,
              "ticks": ""
             }
            },
            "type": "scatterpolargl"
           }
          ],
          "scatterternary": [
           {
            "marker": {
             "colorbar": {
              "outlinewidth": 0,
              "ticks": ""
             }
            },
            "type": "scatterternary"
           }
          ],
          "surface": [
           {
            "colorbar": {
             "outlinewidth": 0,
             "ticks": ""
            },
            "colorscale": [
             [
              0,
              "#0d0887"
             ],
             [
              0.1111111111111111,
              "#46039f"
             ],
             [
              0.2222222222222222,
              "#7201a8"
             ],
             [
              0.3333333333333333,
              "#9c179e"
             ],
             [
              0.4444444444444444,
              "#bd3786"
             ],
             [
              0.5555555555555556,
              "#d8576b"
             ],
             [
              0.6666666666666666,
              "#ed7953"
             ],
             [
              0.7777777777777778,
              "#fb9f3a"
             ],
             [
              0.8888888888888888,
              "#fdca26"
             ],
             [
              1,
              "#f0f921"
             ]
            ],
            "type": "surface"
           }
          ],
          "table": [
           {
            "cells": {
             "fill": {
              "color": "#EBF0F8"
             },
             "line": {
              "color": "white"
             }
            },
            "header": {
             "fill": {
              "color": "#C8D4E3"
             },
             "line": {
              "color": "white"
             }
            },
            "type": "table"
           }
          ]
         },
         "layout": {
          "annotationdefaults": {
           "arrowcolor": "#2a3f5f",
           "arrowhead": 0,
           "arrowwidth": 1
          },
          "autotypenumbers": "strict",
          "coloraxis": {
           "colorbar": {
            "outlinewidth": 0,
            "ticks": ""
           }
          },
          "colorscale": {
           "diverging": [
            [
             0,
             "#8e0152"
            ],
            [
             0.1,
             "#c51b7d"
            ],
            [
             0.2,
             "#de77ae"
            ],
            [
             0.3,
             "#f1b6da"
            ],
            [
             0.4,
             "#fde0ef"
            ],
            [
             0.5,
             "#f7f7f7"
            ],
            [
             0.6,
             "#e6f5d0"
            ],
            [
             0.7,
             "#b8e186"
            ],
            [
             0.8,
             "#7fbc41"
            ],
            [
             0.9,
             "#4d9221"
            ],
            [
             1,
             "#276419"
            ]
           ],
           "sequential": [
            [
             0,
             "#0d0887"
            ],
            [
             0.1111111111111111,
             "#46039f"
            ],
            [
             0.2222222222222222,
             "#7201a8"
            ],
            [
             0.3333333333333333,
             "#9c179e"
            ],
            [
             0.4444444444444444,
             "#bd3786"
            ],
            [
             0.5555555555555556,
             "#d8576b"
            ],
            [
             0.6666666666666666,
             "#ed7953"
            ],
            [
             0.7777777777777778,
             "#fb9f3a"
            ],
            [
             0.8888888888888888,
             "#fdca26"
            ],
            [
             1,
             "#f0f921"
            ]
           ],
           "sequentialminus": [
            [
             0,
             "#0d0887"
            ],
            [
             0.1111111111111111,
             "#46039f"
            ],
            [
             0.2222222222222222,
             "#7201a8"
            ],
            [
             0.3333333333333333,
             "#9c179e"
            ],
            [
             0.4444444444444444,
             "#bd3786"
            ],
            [
             0.5555555555555556,
             "#d8576b"
            ],
            [
             0.6666666666666666,
             "#ed7953"
            ],
            [
             0.7777777777777778,
             "#fb9f3a"
            ],
            [
             0.8888888888888888,
             "#fdca26"
            ],
            [
             1,
             "#f0f921"
            ]
           ]
          },
          "colorway": [
           "#636efa",
           "#EF553B",
           "#00cc96",
           "#ab63fa",
           "#FFA15A",
           "#19d3f3",
           "#FF6692",
           "#B6E880",
           "#FF97FF",
           "#FECB52"
          ],
          "font": {
           "color": "#2a3f5f"
          },
          "geo": {
           "bgcolor": "white",
           "lakecolor": "white",
           "landcolor": "#E5ECF6",
           "showlakes": true,
           "showland": true,
           "subunitcolor": "white"
          },
          "hoverlabel": {
           "align": "left"
          },
          "hovermode": "closest",
          "mapbox": {
           "style": "light"
          },
          "paper_bgcolor": "white",
          "plot_bgcolor": "#E5ECF6",
          "polar": {
           "angularaxis": {
            "gridcolor": "white",
            "linecolor": "white",
            "ticks": ""
           },
           "bgcolor": "#E5ECF6",
           "radialaxis": {
            "gridcolor": "white",
            "linecolor": "white",
            "ticks": ""
           }
          },
          "scene": {
           "xaxis": {
            "backgroundcolor": "#E5ECF6",
            "gridcolor": "white",
            "gridwidth": 2,
            "linecolor": "white",
            "showbackground": true,
            "ticks": "",
            "zerolinecolor": "white"
           },
           "yaxis": {
            "backgroundcolor": "#E5ECF6",
            "gridcolor": "white",
            "gridwidth": 2,
            "linecolor": "white",
            "showbackground": true,
            "ticks": "",
            "zerolinecolor": "white"
           },
           "zaxis": {
            "backgroundcolor": "#E5ECF6",
            "gridcolor": "white",
            "gridwidth": 2,
            "linecolor": "white",
            "showbackground": true,
            "ticks": "",
            "zerolinecolor": "white"
           }
          },
          "shapedefaults": {
           "line": {
            "color": "#2a3f5f"
           }
          },
          "ternary": {
           "aaxis": {
            "gridcolor": "white",
            "linecolor": "white",
            "ticks": ""
           },
           "baxis": {
            "gridcolor": "white",
            "linecolor": "white",
            "ticks": ""
           },
           "bgcolor": "#E5ECF6",
           "caxis": {
            "gridcolor": "white",
            "linecolor": "white",
            "ticks": ""
           }
          },
          "title": {
           "x": 0.05
          },
          "xaxis": {
           "automargin": true,
           "gridcolor": "white",
           "linecolor": "white",
           "ticks": "",
           "title": {
            "standoff": 15
           },
           "zerolinecolor": "white",
           "zerolinewidth": 2
          },
          "yaxis": {
           "automargin": true,
           "gridcolor": "white",
           "linecolor": "white",
           "ticks": "",
           "title": {
            "standoff": 15
           },
           "zerolinecolor": "white",
           "zerolinewidth": 2
          }
         }
        },
        "width": 800
       }
      }
     },
     "metadata": {},
     "output_type": "display_data"
    }
   ],
   "source": [
    "import plotly.express as px\n",
    "import plotly.graph_objects as go\n",
    "\n",
    "fig = go.Figure(data=go.Scatter3d(x=p1q_list,y=zero_list,z=one_list,\n",
    "                                  marker=dict(\n",
    "                                      size =4,\n",
    "                                      colorscale = 'Viridis'\n",
    "                                  ),\n",
    "                                  line=dict(\n",
    "                                      color='darkblue',\n",
    "                                      width=2\n",
    "                                  )))\n",
    "\n",
    "fig.update_layout(\n",
    "    width=800,\n",
    "    height=700,\n",
    "    autosize=False,\n",
    "    scene=dict(\n",
    "        camera=dict(\n",
    "            up=dict(\n",
    "                x=0,\n",
    "                y=0,\n",
    "                z=1\n",
    "            ),\n",
    "            eye=dict(\n",
    "                x=0,\n",
    "                y=1.0707,\n",
    "                z=1,\n",
    "            )\n",
    "        ),\n",
    "        aspectratio = dict( x=1, y=1, z=0.7 ),\n",
    "        aspectmode = 'manual'\n",
    "    ),\n",
    ")\n",
    "\n",
    "fig.show()"
   ]
  },
  {
   "cell_type": "code",
   "execution_count": 82,
   "metadata": {},
   "outputs": [
    {
     "data": {
      "text/plain": [
       "[<mpl_toolkits.mplot3d.art3d.Line3D at 0x231b380f730>]"
      ]
     },
     "execution_count": 82,
     "metadata": {},
     "output_type": "execute_result"
    },
    {
     "data": {
      "image/png": "[encoded data removed]",
      "text/plain": [
       "<Figure size 432x288 with 1 Axes>"
      ]
     },
     "metadata": {
      "needs_background": "light"
     },
     "output_type": "display_data"
    }
   ],
   "source": [
    "from mpl_toolkits import mplot3d\n",
    "%matplotlib inline\n",
    "import numpy as np\n",
    "import matplotlib.pyplot as plt\n",
    "fig = plt.figure()\n",
    "ax = plt.axes(projection='3d')\n",
    "xline = p1q_list\n",
    "yline = p2q_list\n",
    "ax.plot3D(xline,yline,zero_list,'gray')\n",
    "ax.plot3D(xline,yline,one_list,'green')"
   ]
  },
  {
   "cell_type": "code",
   "execution_count": 83,
   "metadata": {},
   "outputs": [
    {
     "name": "stderr",
     "output_type": "stream",
     "text": [
      "No handles with labels found to put in legend.\n"
     ]
    },
    {
     "data": {
      "image/png": "[encoded data removed]",
      "text/plain": [
       "<Figure size 432x288 with 1 Axes>"
      ]
     },
     "metadata": {
      "needs_background": "light"
     },
     "output_type": "display_data"
    }
   ],
   "source": [
    "#varying zero and one due to p1q error\n",
    "fig2 = plt.figure()\n",
    "plt.plot(p1q_list,zero_list)\n",
    "plt.xlabel('p1q error')\n",
    "plt.legend()\n",
    "plt.show()\n"
   ]
  },
  {
   "cell_type": "code",
   "execution_count": 84,
   "metadata": {},
   "outputs": [
    {
     "name": "stderr",
     "output_type": "stream",
     "text": [
      "No handles with labels found to put in legend.\n"
     ]
    },
    {
     "data": {
      "image/png": "[encoded data removed]",
      "text/plain": [
       "<Figure size 432x288 with 1 Axes>"
      ]
     },
     "metadata": {
      "needs_background": "light"
     },
     "output_type": "display_data"
    }
   ],
   "source": [
    "#varying zero and one due to p1q error\n",
    "fig3 = plt.figure()\n",
    "plt.plot(p2q_list,zero_list)\n",
    "plt.xlabel('p2q error')\n",
    "plt.plot(p2q_list,one_list)\n",
    "plt.legend()\n",
    "plt.show()"
   ]
  },
  {
   "cell_type": "markdown",
   "metadata": {},
   "source": [
    "# RB Fitter Part"
   ]
  },
  {
   "cell_type": "code",
   "execution_count": 87,
   "metadata": {},
   "outputs": [
    {
     "name": "stdout",
     "output_type": "stream",
     "text": [
      "[[<qiskit.circuit.quantumcircuit.QuantumCircuit object at 0x00000231A962A070>, <qiskit.circuit.quantumcircuit.QuantumCircuit object at 0x00000231A981FA90>]]\n"
     ]
    }
   ],
   "source": [
    "mcircuit = code.get_circuit_list()\n",
    "rb_circs = [mcircuit]\n",
    "print(rb_circs)"
   ]
  },
  {
   "cell_type": "code",
   "execution_count": 153,
   "metadata": {},
   "outputs": [
    {
     "name": "stdout",
     "output_type": "stream",
     "text": [
      "<class 'qiskit.ignis.verification.randomized_benchmarking.fitters.RBFitter'>\n",
      "<class 'list'>\n",
      "Compiling seed 0\n",
      "Simulating seed 0\n",
      "<class 'qiskit.result.result.Result'>\n"
     ]
    },
    {
     "ename": "ValueError",
     "evalue": "invalid literal for int() with base 10: 'circuit-7383'",
     "output_type": "error",
     "traceback": [
      "\u001b[1;31m---------------------------------------------------------------------------\u001b[0m",
      "\u001b[1;31mValueError\u001b[0m                                Traceback (most recent call last)",
      "\u001b[1;32m~\\AppData\\Local\\Temp/ipykernel_6864/2446502404.py\u001b[0m in \u001b[0;36m<module>\u001b[1;34m\u001b[0m\n\u001b[0;32m     17\u001b[0m     \u001b[1;31m# Add data to the fitter\u001b[0m\u001b[1;33m\u001b[0m\u001b[1;33m\u001b[0m\u001b[1;33m\u001b[0m\u001b[0m\n\u001b[0;32m     18\u001b[0m     \u001b[0mprint\u001b[0m\u001b[1;33m(\u001b[0m\u001b[0mtype\u001b[0m\u001b[1;33m(\u001b[0m\u001b[0mjob\u001b[0m\u001b[1;33m.\u001b[0m\u001b[0mresult\u001b[0m\u001b[1;33m(\u001b[0m\u001b[1;33m)\u001b[0m\u001b[1;33m)\u001b[0m\u001b[1;33m)\u001b[0m\u001b[1;33m\u001b[0m\u001b[1;33m\u001b[0m\u001b[0m\n\u001b[1;32m---> 19\u001b[1;33m     \u001b[0mrb_fit\u001b[0m\u001b[1;33m.\u001b[0m\u001b[0madd_data\u001b[0m\u001b[1;33m(\u001b[0m\u001b[0mjob\u001b[0m\u001b[1;33m.\u001b[0m\u001b[0mresult\u001b[0m\u001b[1;33m(\u001b[0m\u001b[1;33m)\u001b[0m\u001b[1;33m)\u001b[0m\u001b[1;33m\u001b[0m\u001b[1;33m\u001b[0m\u001b[0m\n\u001b[0m\u001b[0;32m     20\u001b[0m     \u001b[0mprint\u001b[0m\u001b[1;33m(\u001b[0m\u001b[1;34m'After seed %d, alpha: %f, EPC: %f'\u001b[0m\u001b[1;33m%\u001b[0m\u001b[1;33m(\u001b[0m\u001b[0mi\u001b[0m\u001b[1;33m,\u001b[0m\u001b[0mrb_fit\u001b[0m\u001b[1;33m.\u001b[0m\u001b[0mfit\u001b[0m\u001b[1;33m[\u001b[0m\u001b[1;36m0\u001b[0m\u001b[1;33m]\u001b[0m\u001b[1;33m[\u001b[0m\u001b[1;34m'params'\u001b[0m\u001b[1;33m]\u001b[0m\u001b[1;33m[\u001b[0m\u001b[1;36m1\u001b[0m\u001b[1;33m]\u001b[0m\u001b[1;33m,\u001b[0m \u001b[0mrb_fit\u001b[0m\u001b[1;33m.\u001b[0m\u001b[0mfit\u001b[0m\u001b[1;33m[\u001b[0m\u001b[1;36m0\u001b[0m\u001b[1;33m]\u001b[0m\u001b[1;33m[\u001b[0m\u001b[1;34m'epc'\u001b[0m\u001b[1;33m]\u001b[0m\u001b[1;33m)\u001b[0m\u001b[1;33m)\u001b[0m\u001b[1;33m\u001b[0m\u001b[1;33m\u001b[0m\u001b[0m\n",
      "\u001b[1;32mc:\\Users\\AbhayK\\Anaconda3\\envs\\Qiskit\\lib\\site-packages\\qiskit\\ignis\\verification\\randomized_benchmarking\\fitters.py\u001b[0m in \u001b[0;36madd_data\u001b[1;34m(self, new_backend_result, rerun_fit)\u001b[0m\n\u001b[0;32m    245\u001b[0m             \u001b[1;31m# cliffords\u001b[0m\u001b[1;33m\u001b[0m\u001b[1;33m\u001b[0m\u001b[1;33m\u001b[0m\u001b[0m\n\u001b[0;32m    246\u001b[0m             \u001b[1;32mfor\u001b[0m \u001b[0mrbcirc\u001b[0m \u001b[1;32min\u001b[0m \u001b[0mresult\u001b[0m\u001b[1;33m.\u001b[0m\u001b[0mresults\u001b[0m\u001b[1;33m:\u001b[0m\u001b[1;33m\u001b[0m\u001b[1;33m\u001b[0m\u001b[0m\n\u001b[1;32m--> 247\u001b[1;33m                 \u001b[0mnseeds_circ\u001b[0m \u001b[1;33m=\u001b[0m \u001b[0mint\u001b[0m\u001b[1;33m(\u001b[0m\u001b[0mrbcirc\u001b[0m\u001b[1;33m.\u001b[0m\u001b[0mheader\u001b[0m\u001b[1;33m.\u001b[0m\u001b[0mname\u001b[0m\u001b[1;33m.\u001b[0m\u001b[0msplit\u001b[0m\u001b[1;33m(\u001b[0m\u001b[1;34m'_'\u001b[0m\u001b[1;33m)\u001b[0m\u001b[1;33m[\u001b[0m\u001b[1;33m-\u001b[0m\u001b[1;36m1\u001b[0m\u001b[1;33m]\u001b[0m\u001b[1;33m)\u001b[0m\u001b[1;33m\u001b[0m\u001b[1;33m\u001b[0m\u001b[0m\n\u001b[0m\u001b[0;32m    248\u001b[0m                 \u001b[1;32mif\u001b[0m \u001b[0mnseeds_circ\u001b[0m \u001b[1;32mnot\u001b[0m \u001b[1;32min\u001b[0m \u001b[0mself\u001b[0m\u001b[1;33m.\u001b[0m\u001b[0m_nseeds\u001b[0m\u001b[1;33m:\u001b[0m\u001b[1;33m\u001b[0m\u001b[1;33m\u001b[0m\u001b[0m\n\u001b[0;32m    249\u001b[0m                     \u001b[0mself\u001b[0m\u001b[1;33m.\u001b[0m\u001b[0m_nseeds\u001b[0m\u001b[1;33m.\u001b[0m\u001b[0mappend\u001b[0m\u001b[1;33m(\u001b[0m\u001b[0mnseeds_circ\u001b[0m\u001b[1;33m)\u001b[0m\u001b[1;33m\u001b[0m\u001b[1;33m\u001b[0m\u001b[0m\n",
      "\u001b[1;31mValueError\u001b[0m: invalid literal for int() with base 10: 'circuit-7383'"
     ]
    }
   ],
   "source": [
    "backend = qiskit.Aer.get_backend('aer_simulator')\n",
    "basis_gates = ['u1','u2','u3','cx'] \n",
    "shots = 200\n",
    "transpiled_circs_list = []\n",
    "rb_fit = rb.RBFitter(None, xdata, rb_opts['rb_pattern'])\n",
    "print(type(rb_fit))\n",
    "for i,rb_circ_seed in enumerate(rb_circs_dlist):\n",
    "    print(type(rb_circ_seed))\n",
    "    print(f'Compiling seed {i}')\n",
    "    new_rb_circ_seed = qiskit.compiler.transpile(rb_circ_seed, basis_gates=basis_gates)\n",
    "    transpiled_circs_list.append(new_rb_circ_seed)\n",
    "    print(f'Simulating seed {i}')\n",
    "    qobj = assemble(new_rb_circ_seed, shots=shots)\n",
    "    job = backend.run(qobj,\n",
    "                      noise_model=noise_model,\n",
    "                      max_parallel_experiments=0)\n",
    "    # Add data to the fitter\n",
    "    print(type(job.result()))\n",
    "    rb_fit.add_data(job.result())\n",
    "    print('After seed %d, alpha: %f, EPC: %f'%(i,rb_fit.fit[0]['params'][1], rb_fit.fit[0]['epc']))"
   ]
  },
  {
   "cell_type": "code",
   "execution_count": 221,
   "metadata": {},
   "outputs": [
    {
     "data": {
      "image/png": "[encoded data removed]",
      "text/plain": [
       "<Figure size 206.997x385.28 with 1 Axes>"
      ]
     },
     "execution_count": 221,
     "metadata": {},
     "output_type": "execute_result"
    }
   ],
   "source": [
    "# q1 =QuantumCircuit(5,2)\n",
    "# q1.h(0)\n",
    "# q1.measure(0,0)\n",
    "# q1.draw('mpl')\n",
    "# from mitiq import zne"
   ]
  },
  {
   "cell_type": "code",
   "execution_count": 215,
   "metadata": {},
   "outputs": [
    {
     "name": "stdout",
     "output_type": "stream",
     "text": [
      "<class 'qiskit.ignis.verification.randomized_benchmarking.fitters.RBFitter'>\n",
      "<class 'list'>\n",
      "Compiling seed 0\n",
      "Simulating seed 0\n"
     ]
    },
    {
     "ename": "StopIteration",
     "evalue": "",
     "output_type": "error",
     "traceback": [
      "\u001b[1;31m---------------------------------------------------------------------------\u001b[0m",
      "\u001b[1;31mStopIteration\u001b[0m                             Traceback (most recent call last)",
      "\u001b[1;32m~\\AppData\\Local\\Temp/ipykernel_6864/486379206.py\u001b[0m in \u001b[0;36m<module>\u001b[1;34m\u001b[0m\n\u001b[0;32m     17\u001b[0m                       max_parallel_experiments=2)\n\u001b[0;32m     18\u001b[0m     \u001b[1;31m# Add data to the fitter\u001b[0m\u001b[1;33m\u001b[0m\u001b[1;33m\u001b[0m\u001b[1;33m\u001b[0m\u001b[0m\n\u001b[1;32m---> 19\u001b[1;33m     \u001b[0mrb_fit\u001b[0m\u001b[1;33m.\u001b[0m\u001b[0madd_data\u001b[0m\u001b[1;33m(\u001b[0m\u001b[0mjob\u001b[0m\u001b[1;33m.\u001b[0m\u001b[0mresult\u001b[0m\u001b[1;33m(\u001b[0m\u001b[1;33m)\u001b[0m\u001b[1;33m)\u001b[0m\u001b[1;33m\u001b[0m\u001b[1;33m\u001b[0m\u001b[0m\n\u001b[0m\u001b[0;32m     20\u001b[0m     \u001b[0mprint\u001b[0m\u001b[1;33m(\u001b[0m\u001b[1;34m'After seed %d, alpha: %f, EPC: %f'\u001b[0m\u001b[1;33m%\u001b[0m\u001b[1;33m(\u001b[0m\u001b[0mrb_seed\u001b[0m\u001b[1;33m,\u001b[0m\u001b[0mrb_fit\u001b[0m\u001b[1;33m.\u001b[0m\u001b[0mfit\u001b[0m\u001b[1;33m[\u001b[0m\u001b[1;36m0\u001b[0m\u001b[1;33m]\u001b[0m\u001b[1;33m[\u001b[0m\u001b[1;34m'params'\u001b[0m\u001b[1;33m]\u001b[0m\u001b[1;33m[\u001b[0m\u001b[1;36m1\u001b[0m\u001b[1;33m]\u001b[0m\u001b[1;33m,\u001b[0m \u001b[0mrb_fit\u001b[0m\u001b[1;33m.\u001b[0m\u001b[0mfit\u001b[0m\u001b[1;33m[\u001b[0m\u001b[1;36m0\u001b[0m\u001b[1;33m]\u001b[0m\u001b[1;33m[\u001b[0m\u001b[1;34m'epc'\u001b[0m\u001b[1;33m]\u001b[0m\u001b[1;33m)\u001b[0m\u001b[1;33m)\u001b[0m\u001b[1;33m\u001b[0m\u001b[1;33m\u001b[0m\u001b[0m\n",
      "\u001b[1;32mc:\\Users\\AbhayK\\Anaconda3\\envs\\Qiskit\\lib\\site-packages\\qiskit\\ignis\\verification\\randomized_benchmarking\\fitters.py\u001b[0m in \u001b[0;36madd_data\u001b[1;34m(self, new_backend_result, rerun_fit)\u001b[0m\n\u001b[0;32m    250\u001b[0m \u001b[1;33m\u001b[0m\u001b[0m\n\u001b[0;32m    251\u001b[0m         \u001b[1;32mif\u001b[0m \u001b[0mrerun_fit\u001b[0m\u001b[1;33m:\u001b[0m\u001b[1;33m\u001b[0m\u001b[1;33m\u001b[0m\u001b[0m\n\u001b[1;32m--> 252\u001b[1;33m             \u001b[0mself\u001b[0m\u001b[1;33m.\u001b[0m\u001b[0mcalc_data\u001b[0m\u001b[1;33m(\u001b[0m\u001b[1;33m)\u001b[0m\u001b[1;33m\u001b[0m\u001b[1;33m\u001b[0m\u001b[0m\n\u001b[0m\u001b[0;32m    253\u001b[0m             \u001b[0mself\u001b[0m\u001b[1;33m.\u001b[0m\u001b[0mcalc_statistics\u001b[0m\u001b[1;33m(\u001b[0m\u001b[1;33m)\u001b[0m\u001b[1;33m\u001b[0m\u001b[1;33m\u001b[0m\u001b[0m\n\u001b[0;32m    254\u001b[0m             \u001b[0mself\u001b[0m\u001b[1;33m.\u001b[0m\u001b[0mfit_data\u001b[0m\u001b[1;33m(\u001b[0m\u001b[1;33m)\u001b[0m\u001b[1;33m\u001b[0m\u001b[1;33m\u001b[0m\u001b[0m\n",
      "\u001b[1;32mc:\\Users\\AbhayK\\Anaconda3\\envs\\Qiskit\\lib\\site-packages\\qiskit\\ignis\\verification\\randomized_benchmarking\\fitters.py\u001b[0m in \u001b[0;36mcalc_data\u001b[1;34m(self)\u001b[0m\n\u001b[0;32m    313\u001b[0m                     \u001b[0mcirc_name\u001b[0m \u001b[1;33m=\u001b[0m \u001b[0mself\u001b[0m\u001b[1;33m.\u001b[0m\u001b[0m_circ_name_type\u001b[0m \u001b[1;33m+\u001b[0m \u001b[1;34m'_length_%d_seed_%d'\u001b[0m\u001b[0;31m \u001b[0m\u001b[0;31m\\\u001b[0m\u001b[1;33m\u001b[0m\u001b[1;33m\u001b[0m\u001b[0m\n\u001b[0;32m    314\u001b[0m                                 \u001b[1;33m%\u001b[0m \u001b[1;33m(\u001b[0m\u001b[0mk\u001b[0m\u001b[1;33m,\u001b[0m \u001b[0mseed\u001b[0m\u001b[1;33m)\u001b[0m\u001b[1;33m\u001b[0m\u001b[1;33m\u001b[0m\u001b[0m\n\u001b[1;32m--> 315\u001b[1;33m                     counts_subspace = marginal_counts(\n\u001b[0m\u001b[0;32m    316\u001b[0m                         \u001b[0mcirc_counts\u001b[0m\u001b[1;33m[\u001b[0m\u001b[0mcirc_name\u001b[0m\u001b[1;33m]\u001b[0m\u001b[1;33m,\u001b[0m\u001b[1;33m\u001b[0m\u001b[1;33m\u001b[0m\u001b[0m\n\u001b[0;32m    317\u001b[0m                         np.arange(startind, endind))\n",
      "\u001b[1;32mc:\\Users\\AbhayK\\Anaconda3\\envs\\Qiskit\\lib\\site-packages\\qiskit\\ignis\\verification\\tomography\\data.py\u001b[0m in \u001b[0;36mmarginal_counts\u001b[1;34m(counts, meas_qubits, pad_zeros)\u001b[0m\n\u001b[0;32m     54\u001b[0m     \u001b[1;31m# We trim the whitespace seperating classical registers\u001b[0m\u001b[1;33m\u001b[0m\u001b[1;33m\u001b[0m\u001b[1;33m\u001b[0m\u001b[0m\n\u001b[0;32m     55\u001b[0m     \u001b[1;31m# and count the number of digits\u001b[0m\u001b[1;33m\u001b[0m\u001b[1;33m\u001b[0m\u001b[1;33m\u001b[0m\u001b[0m\n\u001b[1;32m---> 56\u001b[1;33m     \u001b[0mnum_qubits\u001b[0m \u001b[1;33m=\u001b[0m \u001b[0mlen\u001b[0m\u001b[1;33m(\u001b[0m\u001b[0mnext\u001b[0m\u001b[1;33m(\u001b[0m\u001b[0miter\u001b[0m\u001b[1;33m(\u001b[0m\u001b[0mcounts\u001b[0m\u001b[1;33m)\u001b[0m\u001b[1;33m)\u001b[0m\u001b[1;33m.\u001b[0m\u001b[0mreplace\u001b[0m\u001b[1;33m(\u001b[0m\u001b[1;34m' '\u001b[0m\u001b[1;33m,\u001b[0m \u001b[1;34m''\u001b[0m\u001b[1;33m)\u001b[0m\u001b[1;33m)\u001b[0m\u001b[1;33m\u001b[0m\u001b[1;33m\u001b[0m\u001b[0m\n\u001b[0m\u001b[0;32m     57\u001b[0m \u001b[1;33m\u001b[0m\u001b[0m\n\u001b[0;32m     58\u001b[0m     \u001b[1;31m# Check if we do not need to marginalize. In this case we just trim\u001b[0m\u001b[1;33m\u001b[0m\u001b[1;33m\u001b[0m\u001b[1;33m\u001b[0m\u001b[0m\n",
      "\u001b[1;31mStopIteration\u001b[0m: "
     ]
    }
   ],
   "source": [
    "# Create the RB fitter\n",
    "backend = qiskit.Aer.get_backend('aer_simulator')\n",
    "basis_gates = ['u1','u2','u3','cx'] \n",
    "shots = 200\n",
    "transpiled_circs_list = []\n",
    "rb_fit = rb.RBFitter(None, xdata, rb_opts['rb_pattern'])\n",
    "print(type(rb_fit))\n",
    "for rb_seed, rb_circ_seed in enumerate(rb_circs_zero):\n",
    "    print(type(rb_circ_seed))\n",
    "    print(f'Compiling seed {rb_seed}')\n",
    "    new_rb_circ_seed = qiskit.compiler.transpile(rb_circ_seed, basis_gates=basis_gates)\n",
    "    transpiled_circs_list.append(new_rb_circ_seed)\n",
    "    print(f'Simulating seed {rb_seed}')\n",
    "    qobj = assemble(new_rb_circ_seed, shots=shots)\n",
    "    job = backend.run(qobj,\n",
    "                      noise_model=noise_model,\n",
    "                      max_parallel_experiments=2)\n",
    "    # Add data to the fitter\n",
    "    rb_fit.add_data(job.result())\n",
    "    print('After seed %d, alpha: %f, EPC: %f'%(rb_seed,rb_fit.fit[0]['params'][1], rb_fit.fit[0]['epc']))"
   ]
  }
 ],
 "metadata": {
  "kernelspec": {
   "display_name": "Python 3.9.6 ('Qiskit')",
   "language": "python",
   "name": "python3"
  },
  "language_info": {
   "codemirror_mode": {
    "name": "ipython",
    "version": 3
   },
   "file_extension": ".py",
   "mimetype": "text/x-python",
   "name": "python",
   "nbconvert_exporter": "python",
   "pygments_lexer": "ipython3",
   "version": "3.9.6"
  },
  "orig_nbformat": 4,
  "vscode": {
   "interpreter": {
    "hash": "9047ca2da3fcc12bec00934b59ff9d3b8cc3963cc29e4525af84d4ac03262e1f"
   }
  }
 },
 "nbformat": 4,
 "nbformat_minor": 2
}
