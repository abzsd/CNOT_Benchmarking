{
 "cells": [
  {
   "cell_type": "code",
   "execution_count": 1,
   "metadata": {},
   "outputs": [],
   "source": [
    "# Import general libraries (needed for functions)\n",
    "import numpy as np\n",
    "import matplotlib.pyplot as plt\n",
    "from IPython import display\n",
    "\n",
    "# Import the RB Functions\n",
    "import qiskit.ignis.verification.randomized_benchmarking as rb\n",
    "\n",
    "# Import Qiskit classes \n",
    "import qiskit\n",
    "from qiskit import assemble, transpile\n",
    "from qiskit.providers.aer.noise import NoiseModel\n",
    "from qiskit.providers.aer.noise.errors.standard_errors import depolarizing_error, thermal_relaxation_error"
   ]
  },
  {
   "cell_type": "markdown",
   "metadata": {},
   "source": [
    "# The RB Protocol\n",
    "* STEP 1 : Generate RB Sequences\n",
    "Random clifford elements chosen uniformly from the clifford group on n-qubits, including a reversal element.\n",
    "\n",
    "* STEP 2 : Execute RB sequences with some noise\n",
    "Execute the RB sequences using the simulator or the IBMQ provider.\n",
    "Each C_i,j is allowed to have some error and it can be modeled by an operation.\n",
    "\n",
    "* STEP 3 : Get statistics about the survival probabilities\n",
    "For each K_m sequences the survival probabilities is measured. In practice the probability to go bck to the initial state or ground state.\n",
    "\n",
    "* STEP 4 : Find average sequenced fidelity\n",
    "Average over the K_m random realizations of the sequence to find the averaged sequence fidelity.\n",
    "\n",
    "* STEP 5 : Fit the results\n",
    "For different values of m the program is rerun and fit the results for the averaged sequence to the model.\n",
    "the average error rate OR Error per Clifford (EPC) is found out."
   ]
  },
  {
   "cell_type": "markdown",
   "metadata": {},
   "source": [
    "### STEP 1"
   ]
  },
  {
   "cell_type": "code",
   "execution_count": 2,
   "metadata": {},
   "outputs": [],
   "source": [
    "# num of qubits\n",
    "nQ = 2\n",
    "rb_opts = {}\n",
    "\n",
    "#num of clifford in the sequence\n",
    "rb_opts['length_vector'] = [1,10,20,50,75,100,125,150,175,200]\n",
    "# num of seeds(random sequences)\n",
    "rb_opts['nseeds'] = 5\n",
    "#default pattern\n",
    "rb_opts['rb_pattern'] = [[0,1]]\n",
    "\n",
    "rb_circs, xdata = rb.randomized_benchmarking_seq(**rb_opts)\n",
    "\n"
   ]
  },
  {
   "cell_type": "code",
   "execution_count": 4,
   "metadata": {},
   "outputs": [
    {
     "data": {
      "image/png": "[encoded data removed]",
      "text/plain": [
       "<Figure size 1419.51x204.68 with 1 Axes>"
      ]
     },
     "execution_count": 4,
     "metadata": {},
     "output_type": "execute_result"
    }
   ],
   "source": [
    "# Draw the QuantumCircuit at [0][0]\n",
    "rb_circs[0][0].draw('mpl')"
   ]
  },
  {
   "cell_type": "code",
   "execution_count": 5,
   "metadata": {},
   "outputs": [
    {
     "data": {
      "text/latex": [
       "$$\n",
       "\\text{Unitary} = \n",
       "\\begin{bmatrix}\n",
       "\\tfrac{1}{\\sqrt{2}}(1 + i) & 0 & 0 & 0  \\\\\n",
       " 0 & \\tfrac{1}{\\sqrt{2}}(1 + i) & 0 & 0  \\\\\n",
       " 0 & 0 & \\tfrac{1}{\\sqrt{2}}(1 + i) & 0  \\\\\n",
       " 0 & 0 & 0 & \\tfrac{1}{\\sqrt{2}}(1 + i)  \\\\\n",
       " \\end{bmatrix}\n",
       "$$"
      ],
      "text/plain": [
       "<IPython.core.display.Latex object>"
      ]
     },
     "execution_count": 5,
     "metadata": {},
     "output_type": "execute_result"
    }
   ],
   "source": [
    "#verify that the unitary representing each RB circuit is identity using Aer \n",
    "from qiskit import QuantumCircuit\n",
    "# new circuit without measurement\n",
    "qregs = rb_circs[0][-1].qregs\n",
    "cregs = rb_circs[0][-1].cregs\n",
    "qc = QuantumCircuit(*qregs,*cregs)\n",
    "for i in rb_circs[0][-1][0:-nQ]:\n",
    "    qc.data.append(i)\n",
    "    \n",
    "# The Unitary is an identity (with a global phase)\n",
    "sim = qiskit.Aer.get_backend('aer_simulator')\n",
    "basis_gates = ['u1','u2','u3','cx'] # use U,CX for now\n",
    "qc.save_unitary()\n",
    "unitary = sim.run(qc).result().get_unitary()\n",
    "\n",
    "#Printing the Unitary to tell that it is identity matrix\n",
    "from qiskit.visualization import array_to_latex\n",
    "array_to_latex(unitary, prefix=\"\\\\text{Unitary} = \")"
   ]
  },
  {
   "cell_type": "markdown",
   "metadata": {},
   "source": [
    "### STEP 2"
   ]
  },
  {
   "cell_type": "code",
   "execution_count": 6,
   "metadata": {},
   "outputs": [],
   "source": [
    "# Run on a noisy simulator\n",
    "noise_model = NoiseModel()\n",
    "\n",
    "# Depolarizing error on the gates u2, u3 and cx (assuming the u1 is virtual-Z gate and no error)\n",
    "p1Q = 0.002\n",
    "p2Q = 0.01\n",
    "\n",
    "noise_model.add_all_qubit_quantum_error(depolarizing_error(p1Q, 1), 'u2')\n",
    "noise_model.add_all_qubit_quantum_error(depolarizing_error(2 * p1Q, 1), 'u3')\n",
    "noise_model.add_all_qubit_quantum_error(depolarizing_error(p2Q, 2), 'cx')\n",
    "\n",
    "backend = qiskit.Aer.get_backend('aer_simulator')"
   ]
  },
  {
   "cell_type": "markdown",
   "metadata": {},
   "source": [
    "### STEP 3,4,5"
   ]
  },
  {
   "cell_type": "code",
   "execution_count": 9,
   "metadata": {},
   "outputs": [
    {
     "name": "stdout",
     "output_type": "stream",
     "text": [
      "Compiling seed 0\n",
      "Simulating seed 0\n",
      "After seed 0, alpha: 0.982826, EPC: 0.012880\n",
      "Compiling seed 1\n",
      "Simulating seed 1\n",
      "After seed 1, alpha: 0.984283, EPC: 0.011788\n",
      "Compiling seed 2\n",
      "Simulating seed 2\n",
      "After seed 2, alpha: 0.981802, EPC: 0.013648\n",
      "Compiling seed 3\n",
      "Simulating seed 3\n",
      "After seed 3, alpha: 0.981840, EPC: 0.013620\n",
      "Compiling seed 4\n",
      "Simulating seed 4\n",
      "After seed 4, alpha: 0.981726, EPC: 0.013706\n"
     ]
    }
   ],
   "source": [
    "# Create the RB fitter\n",
    "backend = qiskit.Aer.get_backend('aer_simulator')\n",
    "basis_gates = ['u1','u2','u3','cx'] \n",
    "shots = 200\n",
    "transpiled_circs_list = []\n",
    "rb_fit = rb.RBFitter(None, xdata, rb_opts['rb_pattern'])\n",
    "#print(type(rb_fit))\n",
    "\n",
    "#For every circuit in 'rb_circs' create a list with the seed and its respective circuit\n",
    "for rb_seed, rb_circ_seed in enumerate(rb_circs): \n",
    "    #print(type(rb_circ_seed))\n",
    "    print(f'Compiling seed {rb_seed}')\n",
    "    \n",
    "    #transpiling the given gates into the above defined basis gates\n",
    "    new_rb_circ_seed = qiskit.compiler.transpile(rb_circ_seed, basis_gates=basis_gates)\n",
    "    transpiled_circs_list.append(new_rb_circ_seed)\n",
    "    print(f'Simulating seed {rb_seed}')\n",
    "    qobj = assemble(new_rb_circ_seed, shots=shots) #Quantum Object Assemble\n",
    "    job = backend.run(qobj,\n",
    "                      noise_model=noise_model,\n",
    "                      max_parallel_experiments=0) #Running the Quantum Circuit\n",
    "    \n",
    "    # Add data to the fitter\n",
    "    #print((job.result()))\n",
    "    rb_fit.add_data(job.result())\n",
    "    \n",
    "    #Printing the Alpha and EPC values\n",
    "    print('After seed %d, alpha: %f, EPC: %f'%(rb_seed,rb_fit.fit[0]['params'][1], rb_fit.fit[0]['epc']))"
   ]
  },
  {
   "cell_type": "markdown",
   "metadata": {},
   "source": [
    "## Plotting the results"
   ]
  },
  {
   "cell_type": "code",
   "execution_count": 10,
   "metadata": {},
   "outputs": [
    {
     "data": {
      "image/png": "[encoded data removed]",
      "text/plain": [
       "<Figure size 576x432 with 1 Axes>"
      ]
     },
     "metadata": {
      "needs_background": "light"
     },
     "output_type": "display_data"
    }
   ],
   "source": [
    "plt.figure(figsize=(8, 6))\n",
    "ax = plt.subplot(1, 1, 1)\n",
    "\n",
    "# Plot the essence by calling plot_rb_data\n",
    "rb_fit.plot_rb_data(0, ax=ax, add_label=True, show_plt=False)\n",
    "    \n",
    "# Add title and label\n",
    "ax.set_title('%d Qubit RB'%(nQ), fontsize=18)\n",
    "\n",
    "plt.show()"
   ]
  },
  {
   "cell_type": "markdown",
   "metadata": {},
   "source": [
    "## Predicted gate fidelity\n",
    "\n",
    "If we know the errors on the underlying gates we can predict tyhe EPC without running the RB experiment.\n",
    "\n",
    "This verifies that the RB experiment followed by fitting yields correct EPC value. "
   ]
  },
  {
   "cell_type": "code",
   "execution_count": 11,
   "metadata": {},
   "outputs": [
    {
     "name": "stdout",
     "output_type": "stream",
     "text": [
      "Number of u1 gates per Clifford: 0.113319\n",
      "Number of u2 gates per Clifford: 1.664738\n",
      "Number of u3 gates per Clifford: 0.172926\n",
      "Number of cx gates per Clifford: 1.501528\n"
     ]
    }
   ],
   "source": [
    "# count the number of single and 2Q gates in the 2Q Cliffords\n",
    "qubits = rb_opts['rb_pattern'][0]\n",
    "\n",
    "gate_per_cliff = rb.rb_utils.gates_per_clifford(\n",
    "    transpiled_circuits_list=transpiled_circs_list,\n",
    "    clifford_lengths=xdata[0],\n",
    "    basis=basis_gates,\n",
    "    qubits=qubits)\n",
    "\n",
    "for basis_gate in basis_gates:\n",
    "    print(\"Number of %s gates per Clifford: %f\"%(\n",
    "        basis_gate,\n",
    "        np.mean([gate_per_cliff[qubit][basis_gate] for qubit in qubits])))"
   ]
  },
  {
   "cell_type": "code",
   "execution_count": 12,
   "metadata": {},
   "outputs": [
    {
     "name": "stdout",
     "output_type": "stream",
     "text": [
      "Predicted 2Q Error per Clifford: 1.597518e-02 (aer simulator result: 1.370561e-02)\n"
     ]
    }
   ],
   "source": [
    "# convert from depolarizing error to epg (1Q)\n",
    "epg_q0 = {'u1': 0, 'u2': p1Q/2, 'u3': 2 * p1Q/2}\n",
    "epg_q1 = {'u1': 0, 'u2': p1Q/2, 'u3': 2 * p1Q/2}\n",
    "\n",
    "# convert from depolarizing error to epg (2Q)\n",
    "epg_q01 = 3/4 * p2Q\n",
    "\n",
    "# calculate the predicted epc from underlying gate errors \n",
    "pred_epc = rb.rb_utils.calculate_2q_epc(\n",
    "    gate_per_cliff=gate_per_cliff,\n",
    "    epg_2q=epg_q01,\n",
    "    qubit_pair=qubits,\n",
    "    list_epgs_1q=[epg_q0, epg_q1])\n",
    "\n",
    "print(\"Predicted 2Q Error per Clifford: %e (aer simulator result: %e)\" % (pred_epc, rb_fit.fit[0]['epc']))"
   ]
  },
  {
   "cell_type": "code",
   "execution_count": 13,
   "metadata": {},
   "outputs": [
    {
     "name": "stdout",
     "output_type": "stream",
     "text": [
      "Predicted 2Q Error per gate: 5.959889e-03 (gate error model: 7.500000e-03)\n"
     ]
    }
   ],
   "source": [
    "# use 2Q EPC from aer simulator result and 1Q EPGs from depolarizing error model\n",
    "pred_epg = rb.rb_utils.calculate_2q_epg(\n",
    "    gate_per_cliff=gate_per_cliff,\n",
    "    epc_2q=rb_fit.fit[0]['epc'],\n",
    "    qubit_pair=qubits,\n",
    "    list_epgs_1q=[epg_q0, epg_q1])\n",
    "\n",
    "print(\"Predicted 2Q Error per gate: %e (gate error model: %e)\" % (pred_epg, epg_q01))"
   ]
  }
 ],
 "metadata": {
  "kernelspec": {
   "display_name": "Python 3.9.6 ('Qiskit')",
   "language": "python",
   "name": "python3"
  },
  "language_info": {
   "codemirror_mode": {
    "name": "ipython",
    "version": 3
   },
   "file_extension": ".py",
   "mimetype": "text/x-python",
   "name": "python",
   "nbconvert_exporter": "python",
   "pygments_lexer": "ipython3",
   "version": "3.9.6"
  },
  "orig_nbformat": 4,
  "vscode": {
   "interpreter": {
    "hash": "9047ca2da3fcc12bec00934b59ff9d3b8cc3963cc29e4525af84d4ac03262e1f"
   }
  }
 },
 "nbformat": 4,
 "nbformat_minor": 2
}
